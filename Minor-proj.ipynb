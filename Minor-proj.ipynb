{
 "cells": [
  {
   "cell_type": "code",
   "execution_count": 11,
   "metadata": {
    "collapsed": false
   },
   "outputs": [],
   "source": [
    "import numpy as np # linear algebra\n",
    "import pandas as pd # data processing, CSV file I/O (e.g. pd.read_csv)\n",
    "import os\n",
    "import gc\n",
    "import re\n",
    "import matplotlib.pyplot as plt\n",
    "import seaborn as sns\n",
    "import pickle\n",
    "from scipy import sparse\n",
    "from sklearn.ensemble import RandomForestClassifier\n",
    "import xgboost as xgb\n",
    "from sklearn.model_selection import StratifiedKFold, cross_val_score, GridSearchCV\n",
    "from sklearn.cross_validation import train_test_split\n",
    "import nltk.data\n",
    "from sklearn.feature_extraction.text import TfidfVectorizer\n",
    "from sklearn.feature_extraction.text import CountVectorizer\n",
    "from sklearn.feature_extraction.text import TfidfTransformer\n",
    "from nltk.corpus import stopwords\n",
    "from nltk.stem import SnowballStemmer\n",
    "tokenizer = nltk.data.load('tokenizers/punkt/english.pickle')\n",
    "%matplotlib inline\n",
    "from xgboost import plot_importance"
   ]
  },
  {
   "cell_type": "code",
   "execution_count": 2,
   "metadata": {
    "collapsed": true
   },
   "outputs": [],
   "source": [
    "BASE_URL = '/Users/denissamohvalov/Documents/minor-project'"
   ]
  },
  {
   "cell_type": "code",
   "execution_count": 8,
   "metadata": {
    "collapsed": false
   },
   "outputs": [
    {
     "data": {
      "text/html": [
       "<div>\n",
       "<table border=\"1\" class=\"dataframe\">\n",
       "  <thead>\n",
       "    <tr style=\"text-align: right;\">\n",
       "      <th></th>\n",
       "      <th>id</th>\n",
       "      <th>qid1</th>\n",
       "      <th>qid2</th>\n",
       "      <th>question1</th>\n",
       "      <th>question2</th>\n",
       "      <th>is_duplicate</th>\n",
       "    </tr>\n",
       "  </thead>\n",
       "  <tbody>\n",
       "    <tr>\n",
       "      <th>0</th>\n",
       "      <td>0</td>\n",
       "      <td>1</td>\n",
       "      <td>2</td>\n",
       "      <td>What is the step by step guide to invest in sh...</td>\n",
       "      <td>What is the step by step guide to invest in sh...</td>\n",
       "      <td>0</td>\n",
       "    </tr>\n",
       "    <tr>\n",
       "      <th>1</th>\n",
       "      <td>1</td>\n",
       "      <td>3</td>\n",
       "      <td>4</td>\n",
       "      <td>What is the story of Kohinoor (Koh-i-Noor) Dia...</td>\n",
       "      <td>What would happen if the Indian government sto...</td>\n",
       "      <td>0</td>\n",
       "    </tr>\n",
       "    <tr>\n",
       "      <th>2</th>\n",
       "      <td>2</td>\n",
       "      <td>5</td>\n",
       "      <td>6</td>\n",
       "      <td>How can I increase the speed of my internet co...</td>\n",
       "      <td>How can Internet speed be increased by hacking...</td>\n",
       "      <td>0</td>\n",
       "    </tr>\n",
       "    <tr>\n",
       "      <th>3</th>\n",
       "      <td>3</td>\n",
       "      <td>7</td>\n",
       "      <td>8</td>\n",
       "      <td>Why am I mentally very lonely? How can I solve...</td>\n",
       "      <td>Find the remainder when [math]23^{24}[/math] i...</td>\n",
       "      <td>0</td>\n",
       "    </tr>\n",
       "    <tr>\n",
       "      <th>4</th>\n",
       "      <td>4</td>\n",
       "      <td>9</td>\n",
       "      <td>10</td>\n",
       "      <td>Which one dissolve in water quikly sugar, salt...</td>\n",
       "      <td>Which fish would survive in salt water?</td>\n",
       "      <td>0</td>\n",
       "    </tr>\n",
       "  </tbody>\n",
       "</table>\n",
       "</div>"
      ],
      "text/plain": [
       "   id  qid1  qid2                                          question1  \\\n",
       "0   0     1     2  What is the step by step guide to invest in sh...   \n",
       "1   1     3     4  What is the story of Kohinoor (Koh-i-Noor) Dia...   \n",
       "2   2     5     6  How can I increase the speed of my internet co...   \n",
       "3   3     7     8  Why am I mentally very lonely? How can I solve...   \n",
       "4   4     9    10  Which one dissolve in water quikly sugar, salt...   \n",
       "\n",
       "                                           question2  is_duplicate  \n",
       "0  What is the step by step guide to invest in sh...             0  \n",
       "1  What would happen if the Indian government sto...             0  \n",
       "2  How can Internet speed be increased by hacking...             0  \n",
       "3  Find the remainder when [math]23^{24}[/math] i...             0  \n",
       "4            Which fish would survive in salt water?             0  "
      ]
     },
     "execution_count": 8,
     "metadata": {},
     "output_type": "execute_result"
    }
   ],
   "source": [
    "df_train = pd.read_csv(BASE_URL + '/train.csv')\n",
    "df_train.head()"
   ]
  },
  {
   "cell_type": "code",
   "execution_count": 9,
   "metadata": {
    "collapsed": false
   },
   "outputs": [
    {
     "data": {
      "text/html": [
       "<div>\n",
       "<table border=\"1\" class=\"dataframe\">\n",
       "  <thead>\n",
       "    <tr style=\"text-align: right;\">\n",
       "      <th></th>\n",
       "      <th>test_id</th>\n",
       "      <th>question1</th>\n",
       "      <th>question2</th>\n",
       "    </tr>\n",
       "  </thead>\n",
       "  <tbody>\n",
       "    <tr>\n",
       "      <th>0</th>\n",
       "      <td>0</td>\n",
       "      <td>How does the Surface Pro himself 4 compare wit...</td>\n",
       "      <td>Why did Microsoft choose core m3 and not core ...</td>\n",
       "    </tr>\n",
       "    <tr>\n",
       "      <th>1</th>\n",
       "      <td>1</td>\n",
       "      <td>Should I have a hair transplant at age 24? How...</td>\n",
       "      <td>How much cost does hair transplant require?</td>\n",
       "    </tr>\n",
       "    <tr>\n",
       "      <th>2</th>\n",
       "      <td>2</td>\n",
       "      <td>What but is the best way to send money from Ch...</td>\n",
       "      <td>What you send money to China?</td>\n",
       "    </tr>\n",
       "    <tr>\n",
       "      <th>3</th>\n",
       "      <td>3</td>\n",
       "      <td>Which food not emulsifiers?</td>\n",
       "      <td>What foods fibre?</td>\n",
       "    </tr>\n",
       "    <tr>\n",
       "      <th>4</th>\n",
       "      <td>4</td>\n",
       "      <td>How \"aberystwyth\" start reading?</td>\n",
       "      <td>How their can I start reading?</td>\n",
       "    </tr>\n",
       "  </tbody>\n",
       "</table>\n",
       "</div>"
      ],
      "text/plain": [
       "   test_id                                          question1  \\\n",
       "0        0  How does the Surface Pro himself 4 compare wit...   \n",
       "1        1  Should I have a hair transplant at age 24? How...   \n",
       "2        2  What but is the best way to send money from Ch...   \n",
       "3        3                        Which food not emulsifiers?   \n",
       "4        4                   How \"aberystwyth\" start reading?   \n",
       "\n",
       "                                           question2  \n",
       "0  Why did Microsoft choose core m3 and not core ...  \n",
       "1        How much cost does hair transplant require?  \n",
       "2                      What you send money to China?  \n",
       "3                                  What foods fibre?  \n",
       "4                     How their can I start reading?  "
      ]
     },
     "execution_count": 9,
     "metadata": {},
     "output_type": "execute_result"
    }
   ],
   "source": [
    "df_test = pd.read_csv(BASE_URL + '/test.csv')\n",
    "df_test.head()"
   ]
  },
  {
   "cell_type": "markdown",
   "metadata": {},
   "source": [
    "# Синтаксический анализ"
   ]
  },
  {
   "cell_type": "code",
   "execution_count": 43,
   "metadata": {
    "collapsed": false
   },
   "outputs": [
    {
     "name": "stdout",
     "output_type": "stream",
     "text": [
      "Количество пар в обучающей выборке: 404290\n",
      "Количество пар в тестовой выборке: 2345796\n",
      "Отношение обучающей к тестовой: 5.802260753419575\n",
      "Количество одинаковых пар в обучающей выборке: 149263\n",
      "Доля одинаковых пар в обучающей выборке: 0.369197853026293\n",
      "Количество уникальных вопросов в обучающей выборке: 537933\n",
      "Доля уникальных вопросов в обучающей выборке: 0.6652811100942393\n",
      "Количество вопросов, которые встречаются в обучающей выбор больше 1 раза: 111780\n",
      "Доля вопросов, которые встречаются в обучающей выборке больше 1 раза: 0.13824235078780084\n"
     ]
    },
    {
     "data": {
      "text/plain": [
       "<matplotlib.text.Text at 0x1184e4eb8>"
      ]
     },
     "execution_count": 43,
     "metadata": {},
     "output_type": "execute_result"
    },
    {
     "data": {
      "image/png": "[encoded data removed]",
      "text/plain": [
       "<matplotlib.figure.Figure at 0x104b005c0>"
      ]
     },
     "metadata": {},
     "output_type": "display_data"
    }
   ],
   "source": [
    "n_train = len(df_train)\n",
    "n_test = len(df_test)\n",
    "n_dupl_train = len(df_train[df_train['is_duplicate'] == 1])\n",
    "print('Количество пар в обучающей выборке: %s' % n_train)\n",
    "print('Количество пар в тестовой выборке: %s' % n_test)\n",
    "print('Отношение обучающей к тестовой: %s' % (n_test / n_train))\n",
    "print('Количество одинаковых пар в обучающей выборке: %s' % n_dupl_train)\n",
    "print('Доля одинаковых пар в обучающей выборке: %s' % (n_dupl_train / n_train))\n",
    "q1_train = df_train['qid1'].tolist()\n",
    "q2_train = df_train['qid2'].tolist()\n",
    "total_train = pd.Series(q1_train + q2_train)\n",
    "train_unique = np.unique(total_train)\n",
    "n_train_unique = len(train_unique)\n",
    "n_total_train = len(total_train)\n",
    "n_more_than_one = np.sum(total_train.value_counts() > 1)\n",
    "print('Количество уникальных вопросов в обучающей выборке: %s' % n_train_unique)\n",
    "print('Доля уникальных вопросов в обучающей выборке: %s' % (n_train_unique / n_total_train))\n",
    "print('Количество вопросов, которые встречаются в обучающей выбор больше 1 раза: {0}'.format(n_more_than_one))\n",
    "print('Доля вопросов, которые встречаются в обучающей выборке больше 1 раза: {0}'.format(n_more_than_one / n_total_train))\n",
    "plt.figure(figsize=(12, 5))\n",
    "plt.hist(total_train.value_counts(), bins=20, range=[0,150])\n",
    "plt.yscale('log')\n",
    "plt.title('Гистограмма частоты нахождения вопросов в тестовой выборке')\n",
    "plt.xlabel('Количество вхождений вопроса в обучающую выборку')\n",
    "plt.ylabel('Количество вопросов')\n"
   ]
  },
  {
   "cell_type": "code",
   "execution_count": 44,
   "metadata": {
    "collapsed": false
   },
   "outputs": [],
   "source": [
    "# больше 15 -  1000,\n",
    "# есть вопросы, которые встречаются больше 100 раз"
   ]
  },
  {
   "cell_type": "code",
   "execution_count": 47,
   "metadata": {
    "collapsed": false
   },
   "outputs": [
    {
     "name": "stdout",
     "output_type": "stream",
     "text": [
      "Максимально встречающийся вопрос встречается в датасете 157 раз\n"
     ]
    }
   ],
   "source": [
    "print(\"Максимально встречающийся вопрос, встречается в датасете %s раз\" % total_train.value_counts().max())"
   ]
  },
  {
   "cell_type": "code",
   "execution_count": 70,
   "metadata": {
    "collapsed": false
   },
   "outputs": [
    {
     "name": "stderr",
     "output_type": "stream",
     "text": [
      "/Users/denissamohvalov/anaconda/lib/python3.5/site-packages/matplotlib/axes/_axes.py:519: UserWarning: No labelled objects found. Use label='...' kwarg on individual plots.\n",
      "  warnings.warn(\"No labelled objects found. \"\n"
     ]
    },
    {
     "name": "stdout",
     "output_type": "stream",
     "text": [
      "Среднее количество символов в вопросе: 59.82254817086745\n",
      "Минимальное число символов в вопросе: 1\n",
      "Максимальное число символов в вопросе: 1169\n",
      "Стандартное отклонение числа символов в вопросе: 31.963751494576986\n"
     ]
    },
    {
     "data": {
      "image/png": "[encoded data removed]",
      "text/plain": [
       "<matplotlib.figure.Figure at 0x121782fd0>"
      ]
     },
     "metadata": {},
     "output_type": "display_data"
    }
   ],
   "source": [
    "# Обучающая выборка\n",
    "question1_train = df_train['question1'].tolist()\n",
    "question2_train = df_train['question2'].tolist()\n",
    "train_qs = pd.Series(question1_train + question2_train).astype(str)\n",
    "\n",
    "dist_train = train_qs.apply(len)\n",
    "plt.figure(figsize=(15, 10))\n",
    "plt.hist(dist_train, bins=250, range=[0, 250])\n",
    "plt.title('Гистограмма количества символов в вопросах обучающей выборки', fontsize=15)\n",
    "plt.legend()\n",
    "plt.xlabel('Количество символов', fontsize=15)\n",
    "plt.ylabel('Количество вопросов', fontsize=15)\n",
    "print('Среднее количество символов в вопросе: %s' % dist_train.mean())\n",
    "print('Минимальное число символов в вопросе: %s' % dist_train.min())\n",
    "print('Максимальное число символов в вопросе: %s' % dist_train.max())\n",
    "print('Стандартное отклонение числа символов в вопросе: %s' % dist_train.std())"
   ]
  },
  {
   "cell_type": "code",
   "execution_count": 71,
   "metadata": {
    "collapsed": false
   },
   "outputs": [
    {
     "name": "stderr",
     "output_type": "stream",
     "text": [
      "/Users/denissamohvalov/anaconda/lib/python3.5/site-packages/matplotlib/axes/_axes.py:519: UserWarning: No labelled objects found. Use label='...' kwarg on individual plots.\n",
      "  warnings.warn(\"No labelled objects found. \"\n"
     ]
    },
    {
     "name": "stdout",
     "output_type": "stream",
     "text": [
      "Среднее количество символов в вопросе: 60.070103282638385\n",
      "Минимальное число символов в вопросе: 1\n",
      "Максимальное число символов в вопросе: 1176\n",
      "Стандартное отклонение числа символов в вопросе: 31.624631019887765\n"
     ]
    },
    {
     "data": {
      "image/png": "[encoded data removed]",
      "text/plain": [
       "<matplotlib.figure.Figure at 0x130fc7080>"
      ]
     },
     "metadata": {},
     "output_type": "display_data"
    }
   ],
   "source": [
    "question1_test = df_test['question1'].tolist()\n",
    "question2_test = df_test['question2'].tolist()\n",
    "train_qs = pd.Series(question1_test + question2_test).astype(str)\n",
    "\n",
    "dist_train = train_qs.apply(len)\n",
    "plt.figure(figsize=(15, 10))\n",
    "plt.hist(dist_train, bins=250, range=[0, 250])\n",
    "plt.title('Гистограмма количества символов в вопросах тестовой выборки', fontsize=15)\n",
    "plt.legend()\n",
    "plt.xlabel('Количество символов')\n",
    "plt.ylabel('Количество вопросов')\n",
    "print('Среднее количество символов в вопросе: %s' % dist_train.mean())\n",
    "print('Минимальное число символов в вопросе: %s' % dist_train.min())\n",
    "print('Максимальное число символов в вопросе: %s' % dist_train.max())\n",
    "print('Стандартное отклонение числа символов в вопросе: %s' % dist_train.std())"
   ]
  },
  {
   "cell_type": "code",
   "execution_count": 72,
   "metadata": {
    "collapsed": true
   },
   "outputs": [],
   "source": [
    "# В тестовой выборке намеренно внедрены искусственно сгенерированные вопросы\n",
    "# Видимо поэтому распределение выглядит более плавно, чем в обучающе выборке"
   ]
  },
  {
   "cell_type": "code",
   "execution_count": 73,
   "metadata": {
    "collapsed": false
   },
   "outputs": [
    {
     "name": "stderr",
     "output_type": "stream",
     "text": [
      "/Users/denissamohvalov/anaconda/lib/python3.5/site-packages/matplotlib/axes/_axes.py:519: UserWarning: No labelled objects found. Use label='...' kwarg on individual plots.\n",
      "  warnings.warn(\"No labelled objects found. \"\n"
     ]
    },
    {
     "name": "stdout",
     "output_type": "stream",
     "text": [
      "Среднее количество слов в вопросе: 11.062100225085953\n",
      "Минимальное число слов в вопросе: 1\n",
      "Максимальное число слов в вопросе: 237\n",
      "Стандартное отклонение числа слов в вопросе: 5.884594849343418\n"
     ]
    },
    {
     "data": {
      "image/png": "[encoded data removed]",
      "text/plain": [
       "<matplotlib.figure.Figure at 0x123197668>"
      ]
     },
     "metadata": {},
     "output_type": "display_data"
    }
   ],
   "source": [
    "# Обучающая выборка\n",
    "train_qs = pd.Series(question1_train + question2_train).astype(str)\n",
    "dist_train = train_qs.apply(lambda x: x.split()).apply(len)\n",
    "plt.figure(figsize=(15, 10))\n",
    "plt.hist(dist_train, bins=60, range=[0, 60])\n",
    "plt.title('Гистограмма количества слов в вопросах обучающей выборки')\n",
    "plt.legend()\n",
    "plt.xlabel('Количество слов')\n",
    "plt.ylabel('Количество вопросов')\n",
    "print('Среднее количество слов в вопросе: %s' % dist_train.mean())\n",
    "print('Минимальное число слов в вопросе: %s' % dist_train.min())\n",
    "print('Максимальное число слов в вопросе: %s' % dist_train.max())\n",
    "print('Стандартное отклонение числа слов в вопросе: %s' % dist_train.std())"
   ]
  },
  {
   "cell_type": "code",
   "execution_count": 69,
   "metadata": {
    "collapsed": false
   },
   "outputs": [
    {
     "name": "stderr",
     "output_type": "stream",
     "text": [
      "/Users/denissamohvalov/anaconda/lib/python3.5/site-packages/matplotlib/axes/_axes.py:519: UserWarning: No labelled objects found. Use label='...' kwarg on individual plots.\n",
      "  warnings.warn(\"No labelled objects found. \"\n"
     ]
    },
    {
     "name": "stdout",
     "output_type": "stream",
     "text": [
      "Среднее количество слов в вопросе: 11.01826650740303\n",
      "Минимальное число слов в вопросе: 1\n",
      "Максимальное число слов в вопросе: 238\n",
      "Стандартное отклонение числа слов в вопросе: 5.846748191364327\n"
     ]
    },
    {
     "data": {
      "image/png": "[encoded data removed]",
      "text/plain": [
       "<matplotlib.figure.Figure at 0x17cc1bdd8>"
      ]
     },
     "metadata": {},
     "output_type": "display_data"
    }
   ],
   "source": [
    "# Тестовая выборка\n",
    "train_qs = pd.Series(question1_test + question2_test).astype(str)\n",
    "\n",
    "dist_train = test_qs.apply(lambda x: x.split()).apply(len)\n",
    "plt.figure(figsize=(15, 10))\n",
    "plt.hist(dist_train, bins=60, range=[0, 60])\n",
    "plt.title('Гистограмма количества слов в вопросах тестовой выборки')\n",
    "plt.legend()\n",
    "plt.xlabel('Количество слов')\n",
    "plt.ylabel('Количество вопросов')\n",
    "print('Среднее количество слов в вопросе: %s' % dist_train.mean())\n",
    "print('Минимальное число слов в вопросе: %s' % dist_train.min())\n",
    "print('Максимальное число слов в вопросе: %s' % dist_train.max())\n",
    "print('Стандартное отклонение числа слов в вопросе: %s' % dist_train.std())"
   ]
  },
  {
   "cell_type": "code",
   "execution_count": 74,
   "metadata": {
    "collapsed": true
   },
   "outputs": [],
   "source": [
    "# Максимальное количество слов - 238, видимо, это ограничение непосредственно в quora "
   ]
  },
  {
   "cell_type": "code",
   "execution_count": 104,
   "metadata": {
    "collapsed": false
   },
   "outputs": [
    {
     "name": "stderr",
     "output_type": "stream",
     "text": [
      "/Users/denissamohvalov/anaconda/lib/python3.5/site-packages/matplotlib/axes/_axes.py:519: UserWarning: No labelled objects found. Use label='...' kwarg on individual plots.\n",
      "  warnings.warn(\"No labelled objects found. \"\n"
     ]
    },
    {
     "name": "stdout",
     "output_type": "stream",
     "text": [
      "Среднее количество предложений в вопросе: 1.1171188997996488\n",
      "Минимальное число предложений в вопросе: 1\n",
      "Максимальное число предложений в вопросе: 22\n",
      "Стандартное отклонение предложений слов в вопросе: 0.40650825537126567\n"
     ]
    },
    {
     "data": {
      "image/png": "[encoded data removed]",
      "text/plain": [
       "<matplotlib.figure.Figure at 0x12266d7b8>"
      ]
     },
     "metadata": {},
     "output_type": "display_data"
    }
   ],
   "source": [
    "# Обучающая выборка\n",
    "train_qs = pd.Series(question1_train + question2_train).astype(str)\n",
    "\n",
    "dist_train = train_qs.apply(tokenizer.tokenize).apply(len)\n",
    "plt.figure(figsize=(15, 10))\n",
    "plt.hist(dist_train, bins=30, range=[0, 30])\n",
    "plt.title('Гистограмма количества предложений в вопросах обучающей выборки')\n",
    "plt.yscale('log')\n",
    "plt.legend()\n",
    "plt.xlabel('Количество предложений')\n",
    "plt.ylabel('Количество вопросов')\n",
    "print('Среднее количество предложений в вопросе: %s' % dist_train.mean())\n",
    "print('Минимальное число предложений в вопросе: %s' % dist_train.min())\n",
    "print('Максимальное число предложений в вопросе: %s' % dist_train.max())\n",
    "print('Стандартное отклонение предложений в вопросе: %s' % dist_train.std())"
   ]
  },
  {
   "cell_type": "code",
   "execution_count": 105,
   "metadata": {
    "collapsed": false
   },
   "outputs": [
    {
     "name": "stderr",
     "output_type": "stream",
     "text": [
      "/Users/denissamohvalov/anaconda/lib/python3.5/site-packages/matplotlib/axes/_axes.py:519: UserWarning: No labelled objects found. Use label='...' kwarg on individual plots.\n",
      "  warnings.warn(\"No labelled objects found. \"\n"
     ]
    },
    {
     "name": "stdout",
     "output_type": "stream",
     "text": [
      "Среднее количество предложений в вопросе: 1.123127074988618\n",
      "Минимальное число предложений в вопросе: 1\n",
      "Максимальное число предложений в вопросе: 22\n",
      "Стандартное отклонение предложений слов в вопросе: 0.4150551854570918\n"
     ]
    },
    {
     "data": {
      "image/png": "[encoded data removed]",
      "text/plain": [
       "<matplotlib.figure.Figure at 0x1784b6ba8>"
      ]
     },
     "metadata": {},
     "output_type": "display_data"
    }
   ],
   "source": [
    "# Тестовая выборка\n",
    "train_qs = pd.Series(question1_test + question2_test).astype(str)\n",
    "dist_train = train_qs.apply(tokenizer.tokenize).apply(len)\n",
    "plt.figure(figsize=(15, 10))\n",
    "plt.hist(dist_train, bins=30, range=[0, 30])\n",
    "plt.title('Гистограмма количества предложений в вопросах тестовой выборки')\n",
    "plt.yscale('log')\n",
    "plt.legend()\n",
    "plt.xlabel('Количество предложений')\n",
    "plt.ylabel('Количество вопросов')\n",
    "print('Среднее количество предложений в вопросе: %s' % dist_train.mean())\n",
    "print('Минимальное число предложений в вопросе: %s' % dist_train.min())\n",
    "print('Максимальное число предложений в вопросе: %s' % dist_train.max())\n",
    "print('Стандартное отклонение предложений  в вопросе: %s' % dist_train.std())"
   ]
  },
  {
   "cell_type": "code",
   "execution_count": 24,
   "metadata": {
    "collapsed": false
   },
   "outputs": [],
   "source": [
    "duplicate = df_train[df_train['is_duplicate'] == 1]\n",
    "q1_duplicate = duplicate['question1'].tolist()\n",
    "q2_duplicate = duplicate['question2'].tolist()"
   ]
  },
  {
   "cell_type": "code",
   "execution_count": 31,
   "metadata": {
    "collapsed": false
   },
   "outputs": [
    {
     "name": "stderr",
     "output_type": "stream",
     "text": [
      "/Users/denissamohvalov/anaconda/lib/python3.5/site-packages/matplotlib/axes/_axes.py:519: UserWarning: No labelled objects found. Use label='...' kwarg on individual plots.\n",
      "  warnings.warn(\"No labelled objects found. \"\n"
     ]
    },
    {
     "name": "stdout",
     "output_type": "stream",
     "text": [
      "Среднее разницы длин одинаковых вопросов: 13.142654241171623\n",
      "Минимальная разница в длине вопросов: 0.0\n",
      "Максимальное разница в длине вопросов: 196.0\n",
      "Стандартное отклонение длин вопросов: 14.382099735513112\n"
     ]
    },
    {
     "data": {
      "image/png": "[encoded data removed]",
      "text/plain": [
       "<matplotlib.figure.Figure at 0x14f571d68>"
      ]
     },
     "metadata": {},
     "output_type": "display_data"
    }
   ],
   "source": [
    "# Обучающая выборка\n",
    "q1_len = pd.Series(q1_duplicate).astype(str).apply(len)\n",
    "q2_len = pd.Series(q2_duplicate).astype(str).apply(len)\n",
    "dist_train = pd.Series(np.abs(q1_len - q2_len)).astype(float)\n",
    "plt.figure(figsize=(15, 10))\n",
    "plt.hist(dist_train, bins=100, range=[0, 120])\n",
    "plt.title('Гистограмма разниц в длине вопросов, которые помечены как одинаковые')\n",
    "plt.yscale('log')\n",
    "plt.legend()\n",
    "plt.xlabel('Разница длин')\n",
    "plt.ylabel('Количество вопросов')\n",
    "print('Среднее разницы длин одинаковых вопросов: %s' % dist_train.mean())\n",
    "print('Минимальная разница в длине вопросов: %s' % dist_train.min())\n",
    "print('Максимальное разница в длине вопросов: %s' % dist_train.max())\n",
    "print('Стандартное отклонение длин вопросов: %s' % dist_train.std())"
   ]
  },
  {
   "cell_type": "code",
   "execution_count": 32,
   "metadata": {
    "collapsed": true
   },
   "outputs": [],
   "source": [
    "nonduplicate = df_train[df_train['is_duplicate'] == 0]\n",
    "q1_nonduplicate = nonduplicate['question1'].tolist()\n",
    "q2_nonduplicate = nonduplicate['question2'].tolist()"
   ]
  },
  {
   "cell_type": "code",
   "execution_count": 33,
   "metadata": {
    "collapsed": false
   },
   "outputs": [
    {
     "name": "stderr",
     "output_type": "stream",
     "text": [
      "/Users/denissamohvalov/anaconda/lib/python3.5/site-packages/matplotlib/axes/_axes.py:519: UserWarning: No labelled objects found. Use label='...' kwarg on individual plots.\n",
      "  warnings.warn(\"No labelled objects found. \"\n"
     ]
    },
    {
     "name": "stdout",
     "output_type": "stream",
     "text": [
      "Среднее разницы длин одинаковых вопросов: 24.26424653075949\n",
      "Минимальная разница в длине вопросов: 0.0\n",
      "Максимальное разница в длине вопросов: 1080.0\n",
      "Стандартное отклонение длин вопросов: 29.511663764664586\n"
     ]
    },
    {
     "data": {
      "image/png": "[encoded data removed]",
      "text/plain": [
       "<matplotlib.figure.Figure at 0x119e599b0>"
      ]
     },
     "metadata": {},
     "output_type": "display_data"
    }
   ],
   "source": [
    "# Обучающая выборка\n",
    "q1_len = pd.Series(q1_nonduplicate).astype(str).apply(len)\n",
    "q2_len = pd.Series(q2_nonduplicate).astype(str).apply(len)\n",
    "dist_train = pd.Series(np.abs(q1_len - q2_len)).astype(float)\n",
    "plt.figure(figsize=(15, 10))\n",
    "plt.hist(dist_train, bins=100, range=[0, 120])\n",
    "plt.title('Гистограмма разниц в длине вопросов, которые помечены как разные')\n",
    "plt.yscale('log')\n",
    "plt.legend()\n",
    "plt.xlabel('Разница длин')\n",
    "plt.ylabel('Количество вопросов')\n",
    "print('Среднее разницы длин одинаковых вопросов: %s' % dist_train.mean())\n",
    "print('Минимальная разница в длине вопросов: %s' % dist_train.min())\n",
    "print('Максимальное разница в длине вопросов: %s' % dist_train.max())\n",
    "print('Стандартное отклонение длин вопросов: %s' % dist_train.std())"
   ]
  },
  {
   "cell_type": "code",
   "execution_count": 34,
   "metadata": {
    "collapsed": false
   },
   "outputs": [
    {
     "name": "stderr",
     "output_type": "stream",
     "text": [
      "/Users/denissamohvalov/anaconda/lib/python3.5/site-packages/matplotlib/axes/_axes.py:519: UserWarning: No labelled objects found. Use label='...' kwarg on individual plots.\n",
      "  warnings.warn(\"No labelled objects found. \"\n"
     ]
    },
    {
     "name": "stdout",
     "output_type": "stream",
     "text": [
      "Среднее разницы количества слов одинаковых вопросов: 2.420981757032888\n",
      "Минимальная разница количества слов в одинаковых вопросах: 0.0\n",
      "Максимальная разница количества слов в одинаковых вопросах: 39.0\n",
      "Стандартное отклонение количества слов в одинаковых вопросах: 2.6871555261924955\n"
     ]
    },
    {
     "data": {
      "image/png": "[encoded data removed]",
      "text/plain": [
       "<matplotlib.figure.Figure at 0x13e442da0>"
      ]
     },
     "metadata": {},
     "output_type": "display_data"
    }
   ],
   "source": [
    "# Обучающая выборка\n",
    "q1_len = pd.Series(q1_duplicate).astype(str).apply(lambda x: len(x.split()))\n",
    "q2_len = pd.Series(q2_duplicate).astype(str).apply(lambda x: len(x.split()))\n",
    "dist_train = pd.Series(np.abs(q1_len - q2_len)).astype(float)\n",
    "plt.figure(figsize=(15, 10))\n",
    "plt.hist(dist_train, bins=100, range=[0, 120])\n",
    "plt.title('Гистограмма разниц количества слов в вопросах, которые помечены как одинаковые')\n",
    "plt.yscale('log')\n",
    "plt.legend()\n",
    "plt.xlabel('Разница количества слов')\n",
    "plt.ylabel('Количество вопросов')\n",
    "print('Среднее разницы количества слов одинаковых вопросов: %s' % dist_train.mean())\n",
    "print('Минимальная разница количества слов в одинаковых вопросах: %s' % dist_train.min())\n",
    "print('Максимальная разница количества слов в одинаковых вопросах: %s' % dist_train.max())\n",
    "print('Стандартное отклонение количества слов в одинаковых вопросах: %s' % dist_train.std())"
   ]
  },
  {
   "cell_type": "code",
   "execution_count": 35,
   "metadata": {
    "collapsed": false
   },
   "outputs": [
    {
     "name": "stderr",
     "output_type": "stream",
     "text": [
      "/Users/denissamohvalov/anaconda/lib/python3.5/site-packages/matplotlib/axes/_axes.py:519: UserWarning: No labelled objects found. Use label='...' kwarg on individual plots.\n",
      "  warnings.warn(\"No labelled objects found. \"\n"
     ]
    },
    {
     "name": "stdout",
     "output_type": "stream",
     "text": [
      "Среднее разницы количества слов одинаковых вопросов: 4.439435824442118\n",
      "Минимальная разница количества слов в одинаковых вопросах: 0.0\n",
      "Максимальная разница количества слов в одинаковых вопросах: 223.0\n",
      "Стандартное отклонение количества слов в одинаковых вопросах: 5.595228126205865\n"
     ]
    },
    {
     "data": {
      "image/png": "[encoded data removed]",
      "text/plain": [
       "<matplotlib.figure.Figure at 0x11b0d11d0>"
      ]
     },
     "metadata": {},
     "output_type": "display_data"
    }
   ],
   "source": [
    "# Обучающая выборка\n",
    "q1_len = pd.Series(q1_nonduplicate).astype(str).apply(lambda x: len(x.split()))\n",
    "q2_len = pd.Series(q2_nonduplicate).astype(str).apply(lambda x: len(x.split()))\n",
    "dist_train = pd.Series(np.abs(q1_len - q2_len)).astype(float)\n",
    "plt.figure(figsize=(15, 10))\n",
    "plt.hist(dist_train, bins=100, range=[0, 120])\n",
    "plt.title('Гистограмма разниц количества слов в вопросах, которые помечены как разные')\n",
    "plt.yscale('log')\n",
    "plt.legend()\n",
    "plt.xlabel('Разница количества слов')\n",
    "plt.ylabel('Количество вопросов')\n",
    "print('Среднее разницы количества слов разных вопросов: %s' % dist_train.mean())\n",
    "print('Минимальная разница количества слов в разных вопросах: %s' % dist_train.min())\n",
    "print('Максимальная разница количества слов в разных вопросах: %s' % dist_train.max())\n",
    "print('Стандартное отклонение количества слов в разных вопросах: %s' % dist_train.std())"
   ]
  },
  {
   "cell_type": "markdown",
   "metadata": {},
   "source": [
    "# Cемантический анализ"
   ]
  },
  {
   "cell_type": "code",
   "execution_count": 87,
   "metadata": {
    "collapsed": false
   },
   "outputs": [
    {
     "name": "stdout",
     "output_type": "stream",
     "text": [
      "Доля вопросов со знаком вопроса: 0.998738529274\n",
      "Доля вопросов с математическими символами: 0.00117366247001\n",
      "Доля вопросов с точкой или воскл. знаком в конце: 0.0639924311756\n",
      "Доля вопросов с первыми заглавными буквами: 0.99813252863\n",
      "Доля вопросов с заглвными буквами: 0.999505305597\n",
      "Доля вопросов со знаками вопроса: 0.719065522274\n",
      "Доля вопросов с символами, которые не в ascii: 0.0118998738529\n",
      "Доля вопросов с цифрами: 0.118260407133\n"
     ]
    }
   ],
   "source": [
    "# Обучающаяя выборка\n",
    "import string\n",
    "qmarks = np.mean(train_qs.apply(lambda x: '?' in x))\n",
    "math = np.mean(train_qs.apply(lambda x: '[math]' in x))\n",
    "fullstop = np.mean(train_qs.apply(lambda x: '.' in x or '!' in x))\n",
    "capital_first = np.mean(train_qs.apply(lambda x: x[0].isupper()))\n",
    "capitals = np.mean(train_qs.apply(lambda x: max([y.isupper() for y in x])))\n",
    "digits = np.mean(train_qs.apply(lambda x: max([j in '0123456789' for i in x for j in i ])))\n",
    "question_words = ['what', 'when', 'why', 'which', 'who', 'how', 'whose', 'whom']\n",
    "q_words = np.mean(train_qs.apply(lambda x: x.split()[0].lower() in question_words))\n",
    "asc = np.mean(train_qs.apply(lambda x: max([j not in string.printable for i in x  for j in i])))\n",
    "print('Доля вопросов со знаком вопроса: %s' % qmarks)\n",
    "print('Доля вопросов с математическими символами: %s' % math)\n",
    "print('Доля вопросов с точкой или воскл. знаком в конце: %s' % fullstop)\n",
    "print('Доля вопросов с первыми заглавными буквами: %s' % capital_first)\n",
    "print('Доля вопросов с заглвными буквами: %s' % capitals)\n",
    "print('Доля вопросов со знаками вопроса: %s' % q_words)\n",
    "print('Доля вопросов с символами, которые не в ascii: %s' % asc)\n",
    "print('Доля вопросов с цифрами: %s' % digits)"
   ]
  },
  {
   "cell_type": "code",
   "execution_count": 88,
   "metadata": {
    "collapsed": false
   },
   "outputs": [
    {
     "name": "stdout",
     "output_type": "stream",
     "text": [
      "Доля вопросов со знаком вопроса: 0.993881820926\n",
      "Доля вопросов с математическими символами: 0.0016972916656\n",
      "Доля вопросов с точкой или воскл. знаком в конце: 0.0698426035342\n",
      "Доля вопросов с первыми заглавными буквами: 0.997798401907\n",
      "Доля вопросов с заглвными буквами: 0.99939380918\n",
      "Доля вопросов со знаками вопроса: 0.703182203397\n",
      "Доля вопросов с символами, которые не в ascii: 0.0110553091573\n",
      "Доля вопросов с цифрами: 0.126624608448\n"
     ]
    }
   ],
   "source": [
    "# Тестовая выборка\n",
    "import string\n",
    "qmarks = np.mean(test_qs.apply(lambda x: '?' in x))\n",
    "math = np.mean(test_qs.apply(lambda x: '[math]' in x))\n",
    "fullstop = np.mean(test_qs.apply(lambda x: '.' in x or '!' in x))\n",
    "capital_first = np.mean(test_qs.apply(lambda x: x[0].isupper()))\n",
    "capitals = np.mean(test_qs.apply(lambda x: max([y.isupper() for y in x])))\n",
    "digits = np.mean(test_qs.apply(lambda x: max([j in '0123456789' for i in x for j in i ])))\n",
    "question_words = ['what', 'when', 'why', 'which', 'who', 'how', 'whose', 'whom']\n",
    "q_words = np.mean(test_qs.apply(lambda x: x.split()[0].lower() in question_words))\n",
    "asc = np.mean(test_qs.apply(lambda x: max([j not in string.printable for i in x  for j in i])))\n",
    "print('Доля вопросов со знаком вопроса: %s' % qmarks)\n",
    "print('Доля вопросов с математическими символами: %s' % math)\n",
    "print('Доля вопросов с точкой или воскл. знаком в конце: %s' % fullstop)\n",
    "print('Доля вопросов с первыми заглавными буквами: %s' % capital_first)\n",
    "print('Доля вопросов с заглвными буквами: %s' % capitals)\n",
    "print('Доля вопросов со знаками вопроса: %s' % q_words)\n",
    "print('Доля вопросов с символами, которые не в ascii: %s' % asc)\n",
    "print('Доля вопросов с цифрами: %s' % digits)"
   ]
  },
  {
   "cell_type": "markdown",
   "metadata": {},
   "source": [
    "Видно, что средняя разница и стандартное отклонение количества слов и букв среди пар вопросов, которые помечены как разные, значительно выше, чем разница слов и букв, которые помечены как разные. Поробуем обучить модель на этих признаках, плюс ко всем добавим еще несколько  новых признаков - отношение количества слов и букв, a так же  отношение и разность количества предложений."
   ]
  },
  {
   "cell_type": "code",
   "execution_count": 4,
   "metadata": {
    "collapsed": false
   },
   "outputs": [],
   "source": [
    "def extract_features(data, df):\n",
    "    q1_len = pd.Series(data['question1']).astype(str).apply(len)\n",
    "    q2_len = pd.Series(data['question2']).astype(str).apply(len)\n",
    "    df['abs_symb_dist'] = pd.Series(np.abs(q1_len - q2_len)).astype(float)\n",
    "\n",
    "    q1_len = pd.Series(data['question1']).astype(str).apply(lambda x: len(x) if len(x) > 0 else 1.0)\n",
    "    q2_len = pd.Series(data['question2']).astype(str).apply(lambda x: len(x) if len(x) > 0 else 1.0)\n",
    "    dist = []\n",
    "    for i, e in enumerate(q1_len):\n",
    "        if q1_len[i] > q2_len[i]:\n",
    "            dist.append(q2_len[i] / q1_len[i])\n",
    "        else:\n",
    "            dist.append(q1_len[i] / q2_len[i])\n",
    "    df['symb_ratio'] = pd.Series(dist).astype(float)\n",
    "\n",
    "    q1_len = pd.Series(data['question1']).astype(str).apply(lambda x: len(x.split()) if len(x.split()) > 0 else 1.0)\n",
    "    q2_len = pd.Series(data['question2']).astype(str).apply(lambda x: len(x.split()) if len(x.split()) > 0 else 1.0)\n",
    "    df['abs_word_dist'] = pd.Series(np.abs(q1_len - q2_len)).astype(float)\n",
    "\n",
    "    q1_len = pd.Series(data['question1']).astype(str).apply(lambda x: len(x.split()) if len(x.split()) > 0 else 1.0)\n",
    "    q2_len = pd.Series(data['question2']).astype(str).apply(lambda x: len(x.split()) if len(x.split()) > 0 else 1.0)\n",
    "    dist = []\n",
    "    for i, e in enumerate(q1_len):\n",
    "        if q1_len[i] > q2_len[i]:\n",
    "            dist.append(q2_len[i] / q1_len[i])\n",
    "        else:\n",
    "            dist.append(q1_len[i] / q2_len[i])\n",
    "    df['word_ratio'] = pd.Series(dist).astype(float)\n",
    "\n",
    "    q1_len = pd.Series(data['question1']).astype(str).apply(tokenizer.tokenize).apply(len)\n",
    "    q2_len = pd.Series(data['question2']).astype(str).apply(tokenizer.tokenize).apply(len)\n",
    "    df['sentences_dist'] = pd.Series(np.abs(q1_len - q2_len)).astype(float)\n",
    "\n",
    "    q1_len = pd.Series(data['question1']).astype(str).apply(tokenizer.tokenize).apply(lambda x: len(x) if len(x) > 0 else 1)\n",
    "    q2_len = pd.Series(data['question2']).astype(str).apply(tokenizer.tokenize).apply(lambda x: len(x) if len(x) > 0 else 1)\n",
    "    dist = []\n",
    "    for i, e in enumerate(q1_len):\n",
    "        if q1_len[i] > q2_len[i]:\n",
    "            dist.append(q2_len[i] / q1_len[i])\n",
    "        else:\n",
    "            dist.append(q1_len[i] / q2_len[i])\n",
    "    df['sentences_ratio'] = pd.Series(dist).astype(float)\n",
    "    return df\n"
   ]
  },
  {
   "cell_type": "code",
   "execution_count": 135,
   "metadata": {
    "collapsed": false
   },
   "outputs": [],
   "source": [
    "X_train = extract_features(df_train, pd.DataFrame())"
   ]
  },
  {
   "cell_type": "code",
   "execution_count": 17,
   "metadata": {
    "collapsed": false
   },
   "outputs": [],
   "source": [
    "y_train = df_train['is_duplicate']"
   ]
  },
  {
   "cell_type": "code",
   "execution_count": 18,
   "metadata": {
    "collapsed": false
   },
   "outputs": [],
   "source": [
    "import xgboost as xgb\n",
    "\n",
    "def get_xgboost(X, y):\n",
    "    params = {}\n",
    "    params['objective'] = 'binary:logistic'\n",
    "    params['eval_metric'] = 'logloss'\n",
    "    params['eta'] = 0.02\n",
    "    params['max_depth'] = 4\n",
    "    d_train = xgb.DMatrix(X, label=y)\n",
    "    return xgb.train(params, d_train, num_round=300, early_stopping_rounds=50, verbose_eval=10)\n",
    "  "
   ]
  },
  {
   "cell_type": "code",
   "execution_count": 140,
   "metadata": {
    "collapsed": false
   },
   "outputs": [
    {
     "name": "stdout",
     "output_type": "stream",
     "text": [
      "[0]\ttrain-logloss:0.690501\tvalid-logloss:0.690501\n",
      "Multiple eval metrics have been passed: 'valid-logloss' will be used for early stopping.\n",
      "\n",
      "Will train until valid-logloss hasn't improved in 50 rounds.\n",
      "[10]\ttrain-logloss:0.66897\tvalid-logloss:0.66897\n",
      "[20]\ttrain-logloss:0.653964\tvalid-logloss:0.653964\n",
      "[30]\ttrain-logloss:0.643405\tvalid-logloss:0.643405\n",
      "[40]\ttrain-logloss:0.635926\tvalid-logloss:0.635926\n",
      "[50]\ttrain-logloss:0.630409\tvalid-logloss:0.630409\n",
      "[60]\ttrain-logloss:0.626218\tvalid-logloss:0.626218\n",
      "[70]\ttrain-logloss:0.623106\tvalid-logloss:0.623106\n",
      "[80]\ttrain-logloss:0.620567\tvalid-logloss:0.620567\n",
      "[90]\ttrain-logloss:0.618679\tvalid-logloss:0.618679\n",
      "[100]\ttrain-logloss:0.617185\tvalid-logloss:0.617185\n",
      "[110]\ttrain-logloss:0.616029\tvalid-logloss:0.616029\n",
      "[120]\ttrain-logloss:0.614892\tvalid-logloss:0.614892\n",
      "[130]\ttrain-logloss:0.614042\tvalid-logloss:0.614042\n",
      "[140]\ttrain-logloss:0.613207\tvalid-logloss:0.613207\n",
      "[150]\ttrain-logloss:0.612535\tvalid-logloss:0.612535\n",
      "[160]\ttrain-logloss:0.611961\tvalid-logloss:0.611961\n",
      "[170]\ttrain-logloss:0.611401\tvalid-logloss:0.611401\n",
      "[180]\ttrain-logloss:0.610932\tvalid-logloss:0.610932\n",
      "[190]\ttrain-logloss:0.610438\tvalid-logloss:0.610438\n",
      "[200]\ttrain-logloss:0.610065\tvalid-logloss:0.610065\n",
      "[210]\ttrain-logloss:0.609698\tvalid-logloss:0.609698\n",
      "[220]\ttrain-logloss:0.609372\tvalid-logloss:0.609372\n",
      "[230]\ttrain-logloss:0.609019\tvalid-logloss:0.609019\n",
      "[240]\ttrain-logloss:0.608709\tvalid-logloss:0.608709\n",
      "[250]\ttrain-logloss:0.60838\tvalid-logloss:0.60838\n",
      "[260]\ttrain-logloss:0.608098\tvalid-logloss:0.608098\n",
      "[270]\ttrain-logloss:0.607855\tvalid-logloss:0.607855\n",
      "[280]\ttrain-logloss:0.607596\tvalid-logloss:0.607596\n",
      "[290]\ttrain-logloss:0.60731\tvalid-logloss:0.60731\n"
     ]
    }
   ],
   "source": [
    "model = get_xgboost(X_train, y_train)"
   ]
  },
  {
   "cell_type": "code",
   "execution_count": 141,
   "metadata": {
    "collapsed": false
   },
   "outputs": [
    {
     "data": {
      "text/plain": [
       "<matplotlib.axes._subplots.AxesSubplot at 0x1257e3978>"
      ]
     },
     "execution_count": 141,
     "metadata": {},
     "output_type": "execute_result"
    },
    {
     "data": {
      "image/png": "[encoded data removed]",
      "text/plain": [
       "<matplotlib.figure.Figure at 0x119b63fd0>"
      ]
     },
     "metadata": {},
     "output_type": "display_data"
    }
   ],
   "source": [
    "plot_importance(model)"
   ]
  },
  {
   "cell_type": "code",
   "execution_count": 142,
   "metadata": {
    "collapsed": false
   },
   "outputs": [],
   "source": [
    "X_test = extract_features(df_test, pd.DataFrame())"
   ]
  },
  {
   "cell_type": "code",
   "execution_count": 57,
   "metadata": {
    "collapsed": false
   },
   "outputs": [],
   "source": [
    "y_pred = model.predict(xgb.DMatrix(X_test))"
   ]
  },
  {
   "cell_type": "code",
   "execution_count": 26,
   "metadata": {
    "collapsed": false
   },
   "outputs": [],
   "source": [
    "def output(y, filename):\n",
    "    sub = pd.DataFrame()\n",
    "    sub['test_id'] = df_test['test_id']\n",
    "    sub['is_duplicate'] = y\n",
    "    sub.to_csv(filename, index=False)"
   ]
  },
  {
   "cell_type": "code",
   "execution_count": 59,
   "metadata": {
    "collapsed": true
   },
   "outputs": [],
   "source": [
    "output(y, 'first.csv')"
   ]
  },
  {
   "cell_type": "markdown",
   "metadata": {},
   "source": [
    "0.52 - Скор на кэгле"
   ]
  },
  {
   "cell_type": "code",
   "execution_count": 60,
   "metadata": {
    "collapsed": false
   },
   "outputs": [],
   "source": [
    "def get_r_forest(X, y):\n",
    "    r_forest = RandomForestClassifier(\n",
    "        n_estimators = 100, \n",
    "        oob_score = True, \n",
    "        n_jobs = -1,\n",
    "        random_state =50, \n",
    "        max_features = \"auto\", \n",
    "        min_samples_leaf = 50\n",
    "    )\n",
    "    r_forest.fit(X, y)\n",
    "    return r_forest"
   ]
  },
  {
   "cell_type": "code",
   "execution_count": 36,
   "metadata": {
    "collapsed": false
   },
   "outputs": [
    {
     "data": {
      "text/plain": [
       "RandomForestClassifier(bootstrap=True, class_weight=None, criterion='gini',\n",
       "            max_depth=None, max_features='auto', max_leaf_nodes=None,\n",
       "            min_impurity_split=1e-07, min_samples_leaf=50,\n",
       "            min_samples_split=2, min_weight_fraction_leaf=0.0,\n",
       "            n_estimators=100, n_jobs=-1, oob_score=True, random_state=50,\n",
       "            verbose=0, warm_start=False)"
      ]
     },
     "execution_count": 36,
     "metadata": {},
     "output_type": "execute_result"
    }
   ],
   "source": [
    "r_forest = get_r_forest(X, y)"
   ]
  },
  {
   "cell_type": "code",
   "execution_count": 37,
   "metadata": {
    "collapsed": true
   },
   "outputs": [],
   "source": [
    "y = r_forest.predict(X_test)"
   ]
  },
  {
   "cell_type": "code",
   "execution_count": 41,
   "metadata": {
    "collapsed": false
   },
   "outputs": [],
   "source": [
    "output(y, 'first_forest.csv')"
   ]
  },
  {
   "cell_type": "code",
   "execution_count": null,
   "metadata": {
    "collapsed": true
   },
   "outputs": [],
   "source": [
    "Скор на кэгле - 0.8"
   ]
  },
  {
   "cell_type": "code",
   "execution_count": 143,
   "metadata": {
    "collapsed": true
   },
   "outputs": [],
   "source": [
    "#Попробуем почистить данные\n",
    "def clean(text):\n",
    "\n",
    "    text = \" \".join(text)\n",
    "    text = re.sub(r\"what's\", \"what is \", text)\n",
    "    text = re.sub(r\"where's\", \"where is \", text)\n",
    "    text = re.sub(r\"why's\", \"why is \", text)\n",
    "    text = re.sub(r\"who's\", \"who is \", text)\n",
    "    text = re.sub(r\"when's\", \"when is \", text)\n",
    "    text = re.sub(r\"\\'ve\", \" have \", text)\n",
    "    text = re.sub(r\"can't\", \"cannot \", text)\n",
    "    text = re.sub(r\"n't\", \" not \", text)\n",
    "    text = re.sub(r\"i'm\", \"i am \", text)\n",
    "    text = re.sub(r\"\\'re\", \" are \", text)\n",
    "    text = re.sub(r\"\\'d\", \" would \", text)\n",
    "    text = re.sub(r\"\\'ll\", \" will \", text)\n",
    "    text = re.sub(r\",\", \" \", text)\n",
    "    text = re.sub(r\"\\.\", \" \", text)\n",
    "    text = re.sub(r\"!\", \" ! \", text)\n",
    "    text = re.sub(r\"\\/\", \" \", text)\n",
    "    text = re.sub(r\"\\^\", \" ^ \", text)\n",
    "    text = re.sub(r\"\\+\", \" + \", text)\n",
    "    text = re.sub(r\"\\-\", \" - \", text)\n",
    "    text = re.sub(r\"\\=\", \" = \", text)\n",
    "    text = re.sub(r\"'\", \" \", text)\n",
    "    text = re.sub(r\":\", \" : \", text)\n",
    "\n",
    "    text = text.split()\n",
    "    stemmer = SnowballStemmer('english')\n",
    "    stemmed_words = [stemmer.stem(word) for word in text]\n",
    "    text = \" \".join(stemmed_words)\n",
    "    \n",
    "    return(text)"
   ]
  },
  {
   "cell_type": "code",
   "execution_count": 2,
   "metadata": {
    "collapsed": false
   },
   "outputs": [],
   "source": [
    "if os.path.isfile('cleaned_test.csv') and os.path.isfile('cleaned_train.csv'):\n",
    "    df_test = pd.read_csv('cleaned_test.csv').fillna(\" \")\n",
    "    df_train = pd.read_csv('cleaned_train.csv').fillna(\" \")\n",
    "else:\n",
    "    df_train['question1'] = df_train['question1'].apply(clean)\n",
    "    df_train['question2'] = df_train['question2'].apply(clean)\n",
    "    df_test['question1'] = df_test['question1'].apply(clean)\n",
    "    df_test['question2'] = df_test['question2'].apply(clean)\n",
    "    df_train.to_csv('cleaned_train.csv', index=False)\n",
    "    df_test.to_csv('cleaned_test.csv', index=False)"
   ]
  },
  {
   "cell_type": "code",
   "execution_count": 145,
   "metadata": {
    "collapsed": false
   },
   "outputs": [],
   "source": [
    "X_train = extract_features(df_train, pd.DataFrame())"
   ]
  },
  {
   "cell_type": "code",
   "execution_count": 146,
   "metadata": {
    "collapsed": false
   },
   "outputs": [
    {
     "name": "stdout",
     "output_type": "stream",
     "text": [
      "[0]\ttrain-logloss:0.690501\tvalid-logloss:0.690501\n",
      "Multiple eval metrics have been passed: 'valid-logloss' will be used for early stopping.\n",
      "\n",
      "Will train until valid-logloss hasn't improved in 50 rounds.\n",
      "[10]\ttrain-logloss:0.66897\tvalid-logloss:0.66897\n",
      "[20]\ttrain-logloss:0.653964\tvalid-logloss:0.653964\n",
      "[30]\ttrain-logloss:0.643405\tvalid-logloss:0.643405\n",
      "[40]\ttrain-logloss:0.635926\tvalid-logloss:0.635926\n",
      "[50]\ttrain-logloss:0.630409\tvalid-logloss:0.630409\n",
      "[60]\ttrain-logloss:0.626218\tvalid-logloss:0.626218\n",
      "[70]\ttrain-logloss:0.623106\tvalid-logloss:0.623106\n",
      "[80]\ttrain-logloss:0.620567\tvalid-logloss:0.620567\n",
      "[90]\ttrain-logloss:0.618679\tvalid-logloss:0.618679\n",
      "[100]\ttrain-logloss:0.617185\tvalid-logloss:0.617185\n",
      "[110]\ttrain-logloss:0.616029\tvalid-logloss:0.616029\n",
      "[120]\ttrain-logloss:0.614892\tvalid-logloss:0.614892\n",
      "[130]\ttrain-logloss:0.614042\tvalid-logloss:0.614042\n",
      "[140]\ttrain-logloss:0.613207\tvalid-logloss:0.613207\n",
      "[150]\ttrain-logloss:0.612535\tvalid-logloss:0.612535\n",
      "[160]\ttrain-logloss:0.611961\tvalid-logloss:0.611961\n",
      "[170]\ttrain-logloss:0.611401\tvalid-logloss:0.611401\n",
      "[180]\ttrain-logloss:0.610932\tvalid-logloss:0.610932\n",
      "[190]\ttrain-logloss:0.610438\tvalid-logloss:0.610438\n",
      "[200]\ttrain-logloss:0.610065\tvalid-logloss:0.610065\n",
      "[210]\ttrain-logloss:0.609698\tvalid-logloss:0.609698\n",
      "[220]\ttrain-logloss:0.609372\tvalid-logloss:0.609372\n",
      "[230]\ttrain-logloss:0.609019\tvalid-logloss:0.609019\n",
      "[240]\ttrain-logloss:0.608709\tvalid-logloss:0.608709\n",
      "[250]\ttrain-logloss:0.60838\tvalid-logloss:0.60838\n",
      "[260]\ttrain-logloss:0.608098\tvalid-logloss:0.608098\n",
      "[270]\ttrain-logloss:0.607855\tvalid-logloss:0.607855\n",
      "[280]\ttrain-logloss:0.607596\tvalid-logloss:0.607596\n",
      "[290]\ttrain-logloss:0.60731\tvalid-logloss:0.60731\n"
     ]
    }
   ],
   "source": [
    "y_train = df_train['is_duplicate']\n",
    "model = get_xgboost(X_train, y_train)"
   ]
  },
  {
   "cell_type": "code",
   "execution_count": 147,
   "metadata": {
    "collapsed": false
   },
   "outputs": [
    {
     "data": {
      "text/plain": [
       "<matplotlib.axes._subplots.AxesSubplot at 0x121bfbc88>"
      ]
     },
     "execution_count": 147,
     "metadata": {},
     "output_type": "execute_result"
    },
    {
     "data": {
      "image/png": "[encoded data removed]",
      "text/plain": [
       "<matplotlib.figure.Figure at 0x11b6a5ba8>"
      ]
     },
     "metadata": {},
     "output_type": "display_data"
    }
   ],
   "source": [
    "plot_importance(model)"
   ]
  },
  {
   "cell_type": "code",
   "execution_count": 34,
   "metadata": {
    "collapsed": true
   },
   "outputs": [],
   "source": [
    "X_test = extract_features(df_test, pd.DataFrame())"
   ]
  },
  {
   "cell_type": "code",
   "execution_count": 73,
   "metadata": {
    "collapsed": false
   },
   "outputs": [],
   "source": [
    "y_test = model.predict(xgb.DMatrix(X_test))"
   ]
  },
  {
   "cell_type": "code",
   "execution_count": 75,
   "metadata": {
    "collapsed": true
   },
   "outputs": [],
   "source": [
    "output(y_test, 'second_xgb.csv')"
   ]
  },
  {
   "cell_type": "code",
   "execution_count": null,
   "metadata": {
    "collapsed": true
   },
   "outputs": [],
   "source": [
    "Скор на кэгле - 0.51"
   ]
  },
  {
   "cell_type": "markdown",
   "metadata": {},
   "source": [
    "# Буквенные n-grammы и бинарные меры сходства"
   ]
  },
  {
   "cell_type": "code",
   "execution_count": 54,
   "metadata": {
    "collapsed": false
   },
   "outputs": [
    {
     "data": {
      "text/plain": [
       "<808580x47145 sparse matrix of type '<class 'numpy.int64'>'\n",
       "\twith 64444143 stored elements in Compressed Sparse Row format>"
      ]
     },
     "execution_count": 54,
     "metadata": {},
     "output_type": "execute_result"
    }
   ],
   "source": [
    "cv_char = CountVectorizer(ngram_range=(1, 3), analyzer='char')\n",
    "cv_char.fit_transform(df_train['question1'].tolist() + df_train['question2'].tolist())"
   ]
  },
  {
   "cell_type": "code",
   "execution_count": 55,
   "metadata": {
    "collapsed": false
   },
   "outputs": [],
   "source": [
    "m_q1 = cv_char.transform(df_train['question1'].values)\n",
    "m_q2 = cv_char.transform(df_train['question2'].values)"
   ]
  },
  {
   "cell_type": "code",
   "execution_count": 61,
   "metadata": {
    "collapsed": false
   },
   "outputs": [],
   "source": [
    "unigrams = dict([(k, v) for (k, v) in cv_char.vocabulary_.items() if len(k) == 1])\n",
    "ix_unigrams = np.sort(list(unigrams.values()))\n",
    "bigrams = dict([(k, v) for (k, v) in cv_char.vocabulary_.items() if len(k) == 2])\n",
    "ix_bigrams = np.sort(list(bigrams.values()))\n",
    "trigrams = dict([(k, v) for (k, v) in cv_char.vocabulary_.items() if len(k) == 3])\n",
    "ix_trigrams = np.sort(list(trigrams.values()))"
   ]
  },
  {
   "cell_type": "markdown",
   "metadata": {},
   "source": [
    "Попробуем применить несколько бинарных мер сходства к сгенерированным буквенным n-граммам: <br>\n",
    "1) Коэффициент Жаккара https://ru.wikipedia.org/wiki/Коэффициент_Жаккара\n",
    "\n",
    "2) Коэффициент Серенсена https://ru.wikipedia.org/wiki/Коэффициент_Сёренсена\n",
    "\n",
    "3) Коэффцициент Симпсона https://ru.wikipedia.org/wiki/Коэффициент_Симпсона"
   ]
  },
  {
   "cell_type": "code",
   "execution_count": 67,
   "metadata": {
    "collapsed": false
   },
   "outputs": [],
   "source": [
    "v_num = (m_q1[:, ix_unigrams]).minimum((m_q2[:, ix_unigrams])).sum(axis=1)\n",
    "v_den = (m_q1[:, ix_unigrams] ).maximum((m_q2[:, ix_unigrams] )).sum(axis=1)\n",
    "djaccar_score = np.array(v_num.flatten()).astype(np.float32)[0, :]/np.array(v_den.flatten())[0, :]"
   ]
  },
  {
   "cell_type": "code",
   "execution_count": 63,
   "metadata": {
    "collapsed": false
   },
   "outputs": [],
   "source": [
    "v_num = 2 * (m_q1[:, ix_unigrams]).minimum((m_q2[:, ix_bigrams])).sum(axis=1)\n",
    "v_den = ((m_q1[:, ix_unigrams]) + (m_q2[:, ix_unigrams])).sum(axis=1)\n",
    "serensen_score = np.array(v_num.flatten()).astype(np.float32)[0, :]/np.array(v_den.flatten())[0, :]"
   ]
  },
  {
   "cell_type": "code",
   "execution_count": 64,
   "metadata": {
    "collapsed": false
   },
   "outputs": [],
   "source": [
    "v_num = (m_q1[:, ix_unigrams]).minimum((m_q2[:, ix_unigrams])).sum(axis=1)\n",
    "v_den = np.minimum((m_q1[:, ix_unigrams]).sum(axis=1), (m_q2[:, ix_unigrams]).sum(axis=1))\n",
    "simpson_score = np.array(v_num.flatten()).astype(np.float32)[0, :]/np.array(v_den.flatten())[0, :]"
   ]
  },
  {
   "cell_type": "markdown",
   "metadata": {},
   "source": [
    "Добавим полученные меры к уже имеющимся признакам"
   ]
  },
  {
   "cell_type": "code",
   "execution_count": 163,
   "metadata": {
    "collapsed": false
   },
   "outputs": [],
   "source": [
    "X_train['simpson_score'] = simpson_score\n",
    "X_train['serensen_score'] = serensen_score\n",
    "X_train['djaccar_score'] = djaccar_score"
   ]
  },
  {
   "cell_type": "code",
   "execution_count": 149,
   "metadata": {
    "collapsed": false
   },
   "outputs": [
    {
     "data": {
      "text/html": [
       "<div>\n",
       "<table border=\"1\" class=\"dataframe\">\n",
       "  <thead>\n",
       "    <tr style=\"text-align: right;\">\n",
       "      <th></th>\n",
       "      <th>abs_symb_dist</th>\n",
       "      <th>symb_ratio</th>\n",
       "      <th>abs_word_dist</th>\n",
       "      <th>word_ratio</th>\n",
       "      <th>sentences_dist</th>\n",
       "      <th>sentences_ratio</th>\n",
       "      <th>simpson_score</th>\n",
       "      <th>serensen_score</th>\n",
       "      <th>djaccar_score</th>\n",
       "    </tr>\n",
       "  </thead>\n",
       "  <tbody>\n",
       "    <tr>\n",
       "      <th>0</th>\n",
       "      <td>6.0</td>\n",
       "      <td>0.853659</td>\n",
       "      <td>1.0</td>\n",
       "      <td>0.857143</td>\n",
       "      <td>0.0</td>\n",
       "      <td>1.0</td>\n",
       "      <td>1.000000</td>\n",
       "      <td>0.235294</td>\n",
       "      <td>1.000000</td>\n",
       "    </tr>\n",
       "    <tr>\n",
       "      <th>1</th>\n",
       "      <td>32.0</td>\n",
       "      <td>0.555556</td>\n",
       "      <td>5.0</td>\n",
       "      <td>0.615385</td>\n",
       "      <td>0.0</td>\n",
       "      <td>1.0</td>\n",
       "      <td>1.000000</td>\n",
       "      <td>0.320000</td>\n",
       "      <td>0.640000</td>\n",
       "    </tr>\n",
       "    <tr>\n",
       "      <th>2</th>\n",
       "      <td>7.0</td>\n",
       "      <td>0.820513</td>\n",
       "      <td>1.0</td>\n",
       "      <td>0.833333</td>\n",
       "      <td>0.0</td>\n",
       "      <td>1.0</td>\n",
       "      <td>0.857143</td>\n",
       "      <td>0.235294</td>\n",
       "      <td>0.705882</td>\n",
       "    </tr>\n",
       "    <tr>\n",
       "      <th>3</th>\n",
       "      <td>25.0</td>\n",
       "      <td>0.479167</td>\n",
       "      <td>5.0</td>\n",
       "      <td>0.444444</td>\n",
       "      <td>1.0</td>\n",
       "      <td>0.5</td>\n",
       "      <td>0.692308</td>\n",
       "      <td>0.080000</td>\n",
       "      <td>0.360000</td>\n",
       "    </tr>\n",
       "    <tr>\n",
       "      <th>4</th>\n",
       "      <td>28.0</td>\n",
       "      <td>0.508772</td>\n",
       "      <td>5.0</td>\n",
       "      <td>0.500000</td>\n",
       "      <td>0.0</td>\n",
       "      <td>1.0</td>\n",
       "      <td>0.937500</td>\n",
       "      <td>0.166667</td>\n",
       "      <td>0.625000</td>\n",
       "    </tr>\n",
       "  </tbody>\n",
       "</table>\n",
       "</div>"
      ],
      "text/plain": [
       "   abs_symb_dist  symb_ratio  abs_word_dist  word_ratio  sentences_dist  \\\n",
       "0            6.0    0.853659            1.0    0.857143             0.0   \n",
       "1           32.0    0.555556            5.0    0.615385             0.0   \n",
       "2            7.0    0.820513            1.0    0.833333             0.0   \n",
       "3           25.0    0.479167            5.0    0.444444             1.0   \n",
       "4           28.0    0.508772            5.0    0.500000             0.0   \n",
       "\n",
       "   sentences_ratio  simpson_score  serensen_score  djaccar_score  \n",
       "0              1.0       1.000000        0.235294       1.000000  \n",
       "1              1.0       1.000000        0.320000       0.640000  \n",
       "2              1.0       0.857143        0.235294       0.705882  \n",
       "3              0.5       0.692308        0.080000       0.360000  \n",
       "4              1.0       0.937500        0.166667       0.625000  "
      ]
     },
     "execution_count": 149,
     "metadata": {},
     "output_type": "execute_result"
    }
   ],
   "source": [
    "X_train.head()"
   ]
  },
  {
   "cell_type": "code",
   "execution_count": 150,
   "metadata": {
    "collapsed": false
   },
   "outputs": [
    {
     "name": "stdout",
     "output_type": "stream",
     "text": [
      "[0]\ttrain-logloss:0.68928\tvalid-logloss:0.68928\n",
      "Multiple eval metrics have been passed: 'valid-logloss' will be used for early stopping.\n",
      "\n",
      "Will train until valid-logloss hasn't improved in 50 rounds.\n",
      "[10]\ttrain-logloss:0.65767\tvalid-logloss:0.65767\n",
      "[20]\ttrain-logloss:0.635521\tvalid-logloss:0.635521\n",
      "[30]\ttrain-logloss:0.619598\tvalid-logloss:0.619598\n",
      "[40]\ttrain-logloss:0.607718\tvalid-logloss:0.607718\n",
      "[50]\ttrain-logloss:0.598839\tvalid-logloss:0.598839\n",
      "[60]\ttrain-logloss:0.592169\tvalid-logloss:0.592169\n",
      "[70]\ttrain-logloss:0.587069\tvalid-logloss:0.587069\n",
      "[80]\ttrain-logloss:0.583129\tvalid-logloss:0.583129\n",
      "[90]\ttrain-logloss:0.580034\tvalid-logloss:0.580034\n",
      "[100]\ttrain-logloss:0.57763\tvalid-logloss:0.57763\n",
      "[110]\ttrain-logloss:0.575753\tvalid-logloss:0.575753\n",
      "[120]\ttrain-logloss:0.574157\tvalid-logloss:0.574157\n",
      "[130]\ttrain-logloss:0.572863\tvalid-logloss:0.572863\n",
      "[140]\ttrain-logloss:0.571843\tvalid-logloss:0.571843\n",
      "[150]\ttrain-logloss:0.57097\tvalid-logloss:0.57097\n",
      "[160]\ttrain-logloss:0.570237\tvalid-logloss:0.570237\n",
      "[170]\ttrain-logloss:0.569594\tvalid-logloss:0.569594\n",
      "[180]\ttrain-logloss:0.569011\tvalid-logloss:0.569011\n",
      "[190]\ttrain-logloss:0.568513\tvalid-logloss:0.568513\n",
      "[200]\ttrain-logloss:0.568048\tvalid-logloss:0.568048\n",
      "[210]\ttrain-logloss:0.567675\tvalid-logloss:0.567675\n",
      "[220]\ttrain-logloss:0.567239\tvalid-logloss:0.567239\n",
      "[230]\ttrain-logloss:0.566882\tvalid-logloss:0.566882\n",
      "[240]\ttrain-logloss:0.566505\tvalid-logloss:0.566505\n",
      "[250]\ttrain-logloss:0.56617\tvalid-logloss:0.56617\n",
      "[260]\ttrain-logloss:0.565837\tvalid-logloss:0.565837\n",
      "[270]\ttrain-logloss:0.565518\tvalid-logloss:0.565518\n",
      "[280]\ttrain-logloss:0.565262\tvalid-logloss:0.565262\n",
      "[290]\ttrain-logloss:0.564952\tvalid-logloss:0.564952\n"
     ]
    }
   ],
   "source": [
    "model = get_xgboost(X_train, y_train)"
   ]
  },
  {
   "cell_type": "code",
   "execution_count": 151,
   "metadata": {
    "collapsed": false
   },
   "outputs": [
    {
     "data": {
      "text/plain": [
       "<matplotlib.axes._subplots.AxesSubplot at 0x11b6a5d68>"
      ]
     },
     "execution_count": 151,
     "metadata": {},
     "output_type": "execute_result"
    },
    {
     "data": {
      "image/png": "[encoded data removed]",
      "text/plain": [
       "<matplotlib.figure.Figure at 0x1194f5c18>"
      ]
     },
     "metadata": {},
     "output_type": "display_data"
    }
   ],
   "source": [
    "plot_importance(model)"
   ]
  },
  {
   "cell_type": "code",
   "execution_count": 33,
   "metadata": {
    "collapsed": true
   },
   "outputs": [],
   "source": [
    "def get_n_gramms(df):\n",
    "    cv_char = CountVectorizer(ngram_range=(1, 3), analyzer='char')\n",
    "    cv_char.fit_transform(df['question1'].tolist() + df['question2'].tolist())\n",
    "    \n",
    "    m_q1 = cv_char.transform(df['question1'].values)\n",
    "    m_q2 = cv_char.transform(df['question2'].values)\n",
    "    \n",
    "    unigrams = dict([(k, v) for (k, v) in cv_char.vocabulary_.items() if len(k) == 1])\n",
    "    ix_unigrams = np.sort(list(unigrams.values()))\n",
    "    bigrams = dict([(k, v) for (k, v) in cv_char.vocabulary_.items() if len(k) == 2])\n",
    "    ix_bigrams = np.sort(list(bigrams.values()))\n",
    "    trigrams = dict([(k, v) for (k, v) in cv_char.vocabulary_.items() if len(k) == 3])\n",
    "    ix_trigrams = np.sort(list(trigrams.values()))\n",
    "    \n",
    "    return {\n",
    "        'ix_unigrams': ix_unigrams,\n",
    "        'ix_bigrams': ix_bigrams,\n",
    "        'ix_trigrams': ix_trigrams,\n",
    "        'm_q1': m_q1,\n",
    "        'm_q2': m_q2,\n",
    "    }"
   ]
  },
  {
   "cell_type": "code",
   "execution_count": 56,
   "metadata": {
    "collapsed": true
   },
   "outputs": [],
   "source": [
    "def binary_metrics(m_q1, m_q2, ngramms):\n",
    "    v_num = (m_q1[:, ngramms]).minimum((m_q2[:, ngramms])).sum(axis=1)\n",
    "    v_den = (m_q1[:, ngramms]).maximum((m_q2[:, ngramms])).sum(axis=1)\n",
    "    djaccar_score = np.array(v_num.flatten()).astype(np.float32)[0, :]/np.array(v_den.flatten())[0, :]\n",
    "    \n",
    "    v_num = 2 * (m_q1[:, ngramms]).minimum((m_q2[:, ngramms])).sum(axis=1)\n",
    "    v_den = ((m_q1[:, ngramms]) + (m_q2[:, ngramms])).sum(axis=1)\n",
    "    serensen_score = np.array(v_num.flatten()).astype(np.float32)[0, :]/np.array(v_den.flatten())[0, :]\n",
    "    \n",
    "    v_num = (m_q1[:, ngramms]).minimum((m_q2[:, ngramms])).sum(axis=1)\n",
    "    v_den = np.minimum((m_q1[:, ngramms] > 0).sum(axis=1), (m_q2[:, ngramms] > 0).sum(axis=1))\n",
    "    simpson_score = np.array(v_num.flatten()).astype(np.float32)[0, :]/np.array(v_den.flatten())[0, :]\n",
    "    \n",
    "    return {\n",
    "        'djaccar_score': djaccar_score,\n",
    "        'serensen_score': serensen_score,\n",
    "        'simpson_score': simpson_score\n",
    "    }"
   ]
  },
  {
   "cell_type": "code",
   "execution_count": 98,
   "metadata": {
    "collapsed": false
   },
   "outputs": [],
   "source": [
    "test_ngramms = get_n_gramms(df_test)"
   ]
  },
  {
   "cell_type": "code",
   "execution_count": null,
   "metadata": {
    "collapsed": true
   },
   "outputs": [],
   "source": [
    "train_ngramms = get_n_gramms(df_train)"
   ]
  },
  {
   "cell_type": "code",
   "execution_count": 39,
   "metadata": {
    "collapsed": true
   },
   "outputs": [],
   "source": [
    "uni_metrics = binary_metrics(test_ngramms['m_q1'], test_ngramms['m_q2'], test_ngramms['ix_unigrams'])"
   ]
  },
  {
   "cell_type": "code",
   "execution_count": 170,
   "metadata": {
    "collapsed": false
   },
   "outputs": [],
   "source": [
    "X_test['simpson_score'] = uni_metrics['simpson_score']\n",
    "X_test['serensen_score'] = uni_metrics['serensen_score']\n",
    "X_test['djaccar_score'] = uni_metrics['djaccar_score']"
   ]
  },
  {
   "cell_type": "code",
   "execution_count": 55,
   "metadata": {
    "collapsed": false
   },
   "outputs": [
    {
     "data": {
      "text/html": [
       "<div>\n",
       "<table border=\"1\" class=\"dataframe\">\n",
       "  <thead>\n",
       "    <tr style=\"text-align: right;\">\n",
       "      <th></th>\n",
       "      <th>abs_symb_dist</th>\n",
       "      <th>symb_ratio</th>\n",
       "      <th>abs_word_dist</th>\n",
       "      <th>word_ratio</th>\n",
       "      <th>sentences_dist</th>\n",
       "      <th>sentences_ratio</th>\n",
       "      <th>simpson_score</th>\n",
       "      <th>serensen_score</th>\n",
       "      <th>djaccar_score</th>\n",
       "    </tr>\n",
       "  </thead>\n",
       "  <tbody>\n",
       "    <tr>\n",
       "      <th>0</th>\n",
       "      <td>21.0</td>\n",
       "      <td>0.580000</td>\n",
       "      <td>4.0</td>\n",
       "      <td>0.600000</td>\n",
       "      <td>0.0</td>\n",
       "      <td>1.0</td>\n",
       "      <td>0.928571</td>\n",
       "      <td>1.444444</td>\n",
       "      <td>0.722222</td>\n",
       "    </tr>\n",
       "    <tr>\n",
       "      <th>1</th>\n",
       "      <td>6.0</td>\n",
       "      <td>0.850000</td>\n",
       "      <td>2.0</td>\n",
       "      <td>0.714286</td>\n",
       "      <td>1.0</td>\n",
       "      <td>0.5</td>\n",
       "      <td>0.941176</td>\n",
       "      <td>1.454545</td>\n",
       "      <td>0.727273</td>\n",
       "    </tr>\n",
       "    <tr>\n",
       "      <th>2</th>\n",
       "      <td>12.0</td>\n",
       "      <td>0.586207</td>\n",
       "      <td>3.0</td>\n",
       "      <td>0.500000</td>\n",
       "      <td>0.0</td>\n",
       "      <td>1.0</td>\n",
       "      <td>1.000000</td>\n",
       "      <td>1.529412</td>\n",
       "      <td>0.764706</td>\n",
       "    </tr>\n",
       "    <tr>\n",
       "      <th>3</th>\n",
       "      <td>6.0</td>\n",
       "      <td>0.647059</td>\n",
       "      <td>0.0</td>\n",
       "      <td>1.000000</td>\n",
       "      <td>0.0</td>\n",
       "      <td>1.0</td>\n",
       "      <td>0.888889</td>\n",
       "      <td>1.230769</td>\n",
       "      <td>0.615385</td>\n",
       "    </tr>\n",
       "    <tr>\n",
       "      <th>4</th>\n",
       "      <td>14.0</td>\n",
       "      <td>0.500000</td>\n",
       "      <td>1.0</td>\n",
       "      <td>0.666667</td>\n",
       "      <td>0.0</td>\n",
       "      <td>1.0</td>\n",
       "      <td>1.000000</td>\n",
       "      <td>1.375000</td>\n",
       "      <td>0.687500</td>\n",
       "    </tr>\n",
       "  </tbody>\n",
       "</table>\n",
       "</div>"
      ],
      "text/plain": [
       "   abs_symb_dist  symb_ratio  abs_word_dist  word_ratio  sentences_dist  \\\n",
       "0           21.0    0.580000            4.0    0.600000             0.0   \n",
       "1            6.0    0.850000            2.0    0.714286             1.0   \n",
       "2           12.0    0.586207            3.0    0.500000             0.0   \n",
       "3            6.0    0.647059            0.0    1.000000             0.0   \n",
       "4           14.0    0.500000            1.0    0.666667             0.0   \n",
       "\n",
       "   sentences_ratio  simpson_score  serensen_score  djaccar_score  \n",
       "0              1.0       0.928571        1.444444       0.722222  \n",
       "1              0.5       0.941176        1.454545       0.727273  \n",
       "2              1.0       1.000000        1.529412       0.764706  \n",
       "3              1.0       0.888889        1.230769       0.615385  \n",
       "4              1.0       1.000000        1.375000       0.687500  "
      ]
     },
     "execution_count": 55,
     "metadata": {},
     "output_type": "execute_result"
    }
   ],
   "source": [
    "X_test.head()"
   ]
  },
  {
   "cell_type": "code",
   "execution_count": 56,
   "metadata": {
    "collapsed": false
   },
   "outputs": [],
   "source": [
    "y_test = model.predict(xgb.DMatrix(X_test))"
   ]
  },
  {
   "cell_type": "code",
   "execution_count": 59,
   "metadata": {
    "collapsed": false
   },
   "outputs": [],
   "source": [
    "output(y_test, 'third_xgb.csv')"
   ]
  },
  {
   "cell_type": "markdown",
   "metadata": {},
   "source": [
    "Скор на кэгле - 0.42\n",
    "Попробуем теперь добавить бинарные меры на биграммах и триграммах"
   ]
  },
  {
   "cell_type": "code",
   "execution_count": 62,
   "metadata": {
    "collapsed": false
   },
   "outputs": [],
   "source": [
    "train_ngramms = get_n_gramms(df_train)"
   ]
  },
  {
   "cell_type": "code",
   "execution_count": 63,
   "metadata": {
    "collapsed": true
   },
   "outputs": [],
   "source": [
    "bi_metrics_train = binary_metrics(train_ngramms['m_q1'], train_ngramms['m_q2'], train_ngramms['ix_bigrams'])"
   ]
  },
  {
   "cell_type": "code",
   "execution_count": 64,
   "metadata": {
    "collapsed": true
   },
   "outputs": [],
   "source": [
    "tri_metrics_train = binary_metrics(train_ngramms['m_q1'], train_ngramms['m_q2'], train_ngramms['ix_trigrams'])"
   ]
  },
  {
   "cell_type": "code",
   "execution_count": 154,
   "metadata": {
    "collapsed": true
   },
   "outputs": [],
   "source": [
    "X_train['bi_simpson_score'] = bi_metrics_train['simpson_score']\n",
    "X_train['bi_serensen_score'] = bi_metrics_train['serensen_score']\n",
    "X_train['bi_djaccar_score'] = bi_metrics_train['djaccar_score']"
   ]
  },
  {
   "cell_type": "code",
   "execution_count": 167,
   "metadata": {
    "collapsed": false
   },
   "outputs": [
    {
     "data": {
      "text/html": [
       "<div>\n",
       "<table border=\"1\" class=\"dataframe\">\n",
       "  <thead>\n",
       "    <tr style=\"text-align: right;\">\n",
       "      <th></th>\n",
       "      <th>abs_symb_dist</th>\n",
       "      <th>symb_ratio</th>\n",
       "      <th>abs_word_dist</th>\n",
       "      <th>word_ratio</th>\n",
       "      <th>sentences_dist</th>\n",
       "      <th>sentences_ratio</th>\n",
       "      <th>simpson_score</th>\n",
       "      <th>serensen_score</th>\n",
       "      <th>djaccar_score</th>\n",
       "      <th>bi_simpson_score</th>\n",
       "      <th>bi_serensen_score</th>\n",
       "      <th>bi_djaccar_score</th>\n",
       "    </tr>\n",
       "  </thead>\n",
       "  <tbody>\n",
       "    <tr>\n",
       "      <th>0</th>\n",
       "      <td>6.0</td>\n",
       "      <td>0.853659</td>\n",
       "      <td>1.0</td>\n",
       "      <td>0.857143</td>\n",
       "      <td>0.0</td>\n",
       "      <td>1.0</td>\n",
       "      <td>1.000000</td>\n",
       "      <td>0.235294</td>\n",
       "      <td>1.000000</td>\n",
       "      <td>0.962963</td>\n",
       "      <td>1.677419</td>\n",
       "      <td>0.838710</td>\n",
       "    </tr>\n",
       "    <tr>\n",
       "      <th>1</th>\n",
       "      <td>32.0</td>\n",
       "      <td>0.555556</td>\n",
       "      <td>5.0</td>\n",
       "      <td>0.615385</td>\n",
       "      <td>0.0</td>\n",
       "      <td>1.0</td>\n",
       "      <td>1.000000</td>\n",
       "      <td>0.320000</td>\n",
       "      <td>0.640000</td>\n",
       "      <td>0.933333</td>\n",
       "      <td>0.965517</td>\n",
       "      <td>0.482759</td>\n",
       "    </tr>\n",
       "    <tr>\n",
       "      <th>2</th>\n",
       "      <td>7.0</td>\n",
       "      <td>0.820513</td>\n",
       "      <td>1.0</td>\n",
       "      <td>0.833333</td>\n",
       "      <td>0.0</td>\n",
       "      <td>1.0</td>\n",
       "      <td>0.857143</td>\n",
       "      <td>0.235294</td>\n",
       "      <td>0.705882</td>\n",
       "      <td>0.700000</td>\n",
       "      <td>0.954545</td>\n",
       "      <td>0.477273</td>\n",
       "    </tr>\n",
       "    <tr>\n",
       "      <th>3</th>\n",
       "      <td>25.0</td>\n",
       "      <td>0.479167</td>\n",
       "      <td>5.0</td>\n",
       "      <td>0.444444</td>\n",
       "      <td>1.0</td>\n",
       "      <td>0.5</td>\n",
       "      <td>0.692308</td>\n",
       "      <td>0.080000</td>\n",
       "      <td>0.360000</td>\n",
       "      <td>0.000000</td>\n",
       "      <td>0.000000</td>\n",
       "      <td>0.000000</td>\n",
       "    </tr>\n",
       "    <tr>\n",
       "      <th>4</th>\n",
       "      <td>28.0</td>\n",
       "      <td>0.508772</td>\n",
       "      <td>5.0</td>\n",
       "      <td>0.500000</td>\n",
       "      <td>0.0</td>\n",
       "      <td>1.0</td>\n",
       "      <td>0.937500</td>\n",
       "      <td>0.166667</td>\n",
       "      <td>0.625000</td>\n",
       "      <td>0.500000</td>\n",
       "      <td>0.419355</td>\n",
       "      <td>0.209677</td>\n",
       "    </tr>\n",
       "  </tbody>\n",
       "</table>\n",
       "</div>"
      ],
      "text/plain": [
       "   abs_symb_dist  symb_ratio  abs_word_dist  word_ratio  sentences_dist  \\\n",
       "0            6.0    0.853659            1.0    0.857143             0.0   \n",
       "1           32.0    0.555556            5.0    0.615385             0.0   \n",
       "2            7.0    0.820513            1.0    0.833333             0.0   \n",
       "3           25.0    0.479167            5.0    0.444444             1.0   \n",
       "4           28.0    0.508772            5.0    0.500000             0.0   \n",
       "\n",
       "   sentences_ratio  simpson_score  serensen_score  djaccar_score  \\\n",
       "0              1.0       1.000000        0.235294       1.000000   \n",
       "1              1.0       1.000000        0.320000       0.640000   \n",
       "2              1.0       0.857143        0.235294       0.705882   \n",
       "3              0.5       0.692308        0.080000       0.360000   \n",
       "4              1.0       0.937500        0.166667       0.625000   \n",
       "\n",
       "   bi_simpson_score  bi_serensen_score  bi_djaccar_score  \n",
       "0          0.962963           1.677419          0.838710  \n",
       "1          0.933333           0.965517          0.482759  \n",
       "2          0.700000           0.954545          0.477273  \n",
       "3          0.000000           0.000000          0.000000  \n",
       "4          0.500000           0.419355          0.209677  "
      ]
     },
     "execution_count": 167,
     "metadata": {},
     "output_type": "execute_result"
    }
   ],
   "source": [
    "X_train.head()"
   ]
  },
  {
   "cell_type": "code",
   "execution_count": 155,
   "metadata": {
    "collapsed": false
   },
   "outputs": [
    {
     "name": "stdout",
     "output_type": "stream",
     "text": [
      "[0]\ttrain-logloss:0.687769\tvalid-logloss:0.687769\n",
      "Multiple eval metrics have been passed: 'valid-logloss' will be used for early stopping.\n",
      "\n",
      "Will train until valid-logloss hasn't improved in 50 rounds.\n",
      "[10]\ttrain-logloss:0.64396\tvalid-logloss:0.64396\n",
      "[20]\ttrain-logloss:0.613285\tvalid-logloss:0.613285\n",
      "[30]\ttrain-logloss:0.591101\tvalid-logloss:0.591101\n",
      "[40]\ttrain-logloss:0.574723\tvalid-logloss:0.574723\n",
      "[50]\ttrain-logloss:0.5625\tvalid-logloss:0.5625\n",
      "[60]\ttrain-logloss:0.553066\tvalid-logloss:0.553066\n",
      "[70]\ttrain-logloss:0.545869\tvalid-logloss:0.545869\n",
      "[80]\ttrain-logloss:0.540309\tvalid-logloss:0.540309\n",
      "[90]\ttrain-logloss:0.536013\tvalid-logloss:0.536013\n",
      "[100]\ttrain-logloss:0.532665\tvalid-logloss:0.532665\n",
      "[110]\ttrain-logloss:0.529984\tvalid-logloss:0.529984\n",
      "[120]\ttrain-logloss:0.52778\tvalid-logloss:0.52778\n",
      "[130]\ttrain-logloss:0.525983\tvalid-logloss:0.525983\n",
      "[140]\ttrain-logloss:0.52452\tvalid-logloss:0.52452\n",
      "[150]\ttrain-logloss:0.523311\tvalid-logloss:0.523311\n",
      "[160]\ttrain-logloss:0.522327\tvalid-logloss:0.522327\n",
      "[170]\ttrain-logloss:0.521464\tvalid-logloss:0.521464\n",
      "[180]\ttrain-logloss:0.520746\tvalid-logloss:0.520746\n",
      "[190]\ttrain-logloss:0.520153\tvalid-logloss:0.520153\n",
      "[200]\ttrain-logloss:0.519631\tvalid-logloss:0.519631\n",
      "[210]\ttrain-logloss:0.518995\tvalid-logloss:0.518995\n",
      "[220]\ttrain-logloss:0.518493\tvalid-logloss:0.518493\n",
      "[230]\ttrain-logloss:0.518001\tvalid-logloss:0.518001\n",
      "[240]\ttrain-logloss:0.51755\tvalid-logloss:0.51755\n",
      "[250]\ttrain-logloss:0.517038\tvalid-logloss:0.517038\n",
      "[260]\ttrain-logloss:0.516628\tvalid-logloss:0.516628\n",
      "[270]\ttrain-logloss:0.516243\tvalid-logloss:0.516243\n",
      "[280]\ttrain-logloss:0.515731\tvalid-logloss:0.515731\n",
      "[290]\ttrain-logloss:0.515279\tvalid-logloss:0.515279\n"
     ]
    }
   ],
   "source": [
    "model = get_xgboost(X_train, y_train)"
   ]
  },
  {
   "cell_type": "code",
   "execution_count": 156,
   "metadata": {
    "collapsed": false
   },
   "outputs": [
    {
     "data": {
      "text/plain": [
       "<matplotlib.axes._subplots.AxesSubplot at 0x1194c62e8>"
      ]
     },
     "execution_count": 156,
     "metadata": {},
     "output_type": "execute_result"
    },
    {
     "data": {
      "image/png": "[encoded data removed]",
      "text/plain": [
       "<matplotlib.figure.Figure at 0x11c3780b8>"
      ]
     },
     "metadata": {},
     "output_type": "display_data"
    }
   ],
   "source": [
    "plot_importance(model)"
   ]
  },
  {
   "cell_type": "code",
   "execution_count": 171,
   "metadata": {
    "collapsed": true
   },
   "outputs": [],
   "source": [
    "X_test['bi_simpson_score'] = bi_metrics_test['simpson_score']\n",
    "X_test['bi_serensen_score'] = bi_metrics_test['serensen_score']\n",
    "X_test['bi_djaccar_score'] = bi_metrics_test['djaccar_score']"
   ]
  },
  {
   "cell_type": "code",
   "execution_count": 172,
   "metadata": {
    "collapsed": false
   },
   "outputs": [],
   "source": [
    "y_test = model.predict(xgb.DMatrix(X_test))\n",
    "output(y_test, 'fourth_xgb.csv')"
   ]
  },
  {
   "cell_type": "code",
   "execution_count": null,
   "metadata": {
    "collapsed": true
   },
   "outputs": [],
   "source": [
    "Скор на кэгле - 0.43"
   ]
  },
  {
   "cell_type": "code",
   "execution_count": 173,
   "metadata": {
    "collapsed": true
   },
   "outputs": [],
   "source": [
    "X_train['tri_simpson_score'] = tri_metrics_train['simpson_score']\n",
    "X_train['tri_serensen_score'] = tri_metrics_train['serensen_score']\n",
    "X_train['tri_djaccar_score'] = tri_metrics_train['djaccar_score']"
   ]
  },
  {
   "cell_type": "code",
   "execution_count": 174,
   "metadata": {
    "collapsed": false
   },
   "outputs": [
    {
     "name": "stdout",
     "output_type": "stream",
     "text": [
      "[0]\ttrain-logloss:0.687618\tvalid-logloss:0.687618\n",
      "Multiple eval metrics have been passed: 'valid-logloss' will be used for early stopping.\n",
      "\n",
      "Will train until valid-logloss hasn't improved in 50 rounds.\n",
      "[10]\ttrain-logloss:0.642607\tvalid-logloss:0.642607\n",
      "[20]\ttrain-logloss:0.611043\tvalid-logloss:0.611043\n",
      "[30]\ttrain-logloss:0.588123\tvalid-logloss:0.588123\n",
      "[40]\ttrain-logloss:0.57118\tvalid-logloss:0.57118\n",
      "[50]\ttrain-logloss:0.558378\tvalid-logloss:0.558378\n",
      "[60]\ttrain-logloss:0.548583\tvalid-logloss:0.548583\n",
      "[70]\ttrain-logloss:0.541106\tvalid-logloss:0.541106\n",
      "[80]\ttrain-logloss:0.535311\tvalid-logloss:0.535311\n",
      "[90]\ttrain-logloss:0.530808\tvalid-logloss:0.530808\n",
      "[100]\ttrain-logloss:0.527206\tvalid-logloss:0.527206\n",
      "[110]\ttrain-logloss:0.524323\tvalid-logloss:0.524323\n",
      "[120]\ttrain-logloss:0.521991\tvalid-logloss:0.521991\n",
      "[130]\ttrain-logloss:0.520117\tvalid-logloss:0.520117\n",
      "[140]\ttrain-logloss:0.518543\tvalid-logloss:0.518543\n",
      "[150]\ttrain-logloss:0.517223\tvalid-logloss:0.517223\n",
      "[160]\ttrain-logloss:0.516222\tvalid-logloss:0.516222\n",
      "[170]\ttrain-logloss:0.515383\tvalid-logloss:0.515383\n",
      "[180]\ttrain-logloss:0.514576\tvalid-logloss:0.514576\n",
      "[190]\ttrain-logloss:0.513997\tvalid-logloss:0.513997\n",
      "[200]\ttrain-logloss:0.513488\tvalid-logloss:0.513488\n",
      "[210]\ttrain-logloss:0.512901\tvalid-logloss:0.512901\n",
      "[220]\ttrain-logloss:0.512364\tvalid-logloss:0.512364\n",
      "[230]\ttrain-logloss:0.511956\tvalid-logloss:0.511956\n",
      "[240]\ttrain-logloss:0.511435\tvalid-logloss:0.511435\n",
      "[250]\ttrain-logloss:0.511039\tvalid-logloss:0.511039\n",
      "[260]\ttrain-logloss:0.510607\tvalid-logloss:0.510607\n",
      "[270]\ttrain-logloss:0.510276\tvalid-logloss:0.510276\n",
      "[280]\ttrain-logloss:0.509891\tvalid-logloss:0.509891\n",
      "[290]\ttrain-logloss:0.509543\tvalid-logloss:0.509543\n"
     ]
    }
   ],
   "source": [
    "model = get_xgboost(X_train, y_train)"
   ]
  },
  {
   "cell_type": "code",
   "execution_count": 175,
   "metadata": {
    "collapsed": false
   },
   "outputs": [
    {
     "data": {
      "text/plain": [
       "<matplotlib.axes._subplots.AxesSubplot at 0x11d7b14a8>"
      ]
     },
     "execution_count": 175,
     "metadata": {},
     "output_type": "execute_result"
    },
    {
     "data": {
      "image/png": "[encoded data removed]",
      "text/plain": [
       "<matplotlib.figure.Figure at 0x139564ba8>"
      ]
     },
     "metadata": {},
     "output_type": "display_data"
    }
   ],
   "source": [
    "plot_importance(model)"
   ]
  },
  {
   "cell_type": "code",
   "execution_count": 70,
   "metadata": {
    "collapsed": true
   },
   "outputs": [],
   "source": [
    "X_test['tri_simpson_score'] = tri_metrics_test['simpson_score']\n",
    "X_test['tri_serensen_score'] = tri_metrics_test['serensen_score']\n",
    "X_test['tri_djaccar_score'] = tri_metrics_test['djaccar_score']"
   ]
  },
  {
   "cell_type": "code",
   "execution_count": 87,
   "metadata": {
    "collapsed": false
   },
   "outputs": [],
   "source": [
    "y_test = model.predict(xgb.DMatrix(X_test))"
   ]
  },
  {
   "cell_type": "code",
   "execution_count": 88,
   "metadata": {
    "collapsed": true
   },
   "outputs": [],
   "source": [
    "output(y_test, 'fourth_xgb.csv')"
   ]
  },
  {
   "cell_type": "code",
   "execution_count": null,
   "metadata": {
    "collapsed": true
   },
   "outputs": [],
   "source": [
    "Скор на кэгле - 0.44. Качество  модели на тесте ухудшилось, хотя на обучении видно, что качество значительно улучшилось. \n",
    "Вероятно, это связано с особенностью тестовой выборки, то что в ней присутствует большое количество синтетических данных."
   ]
  },
  {
   "cell_type": "code",
   "execution_count": 75,
   "metadata": {
    "collapsed": true
   },
   "outputs": [],
   "source": [
    "X_test.to_csv('features_test1.csv', index=False)\n",
    "X_train.to_csv('features_train1.csv', index=False)"
   ]
  },
  {
   "cell_type": "code",
   "execution_count": 8,
   "metadata": {
    "collapsed": true
   },
   "outputs": [],
   "source": [
    "X_test = pd.read_csv('features_test1.csv')\n",
    "X_train  = pd.read_csv('features_train1.csv')"
   ]
  },
  {
   "cell_type": "markdown",
   "metadata": {},
   "source": [
    "# Бинарные меры сходства на словесных n-grammax"
   ]
  },
  {
   "cell_type": "code",
   "execution_count": 4,
   "metadata": {
    "collapsed": true
   },
   "outputs": [],
   "source": [
    "def get_word_n_gramms(df):\n",
    "    cv_word = CountVectorizer(ngram_range=(1, 3), analyzer='word')\n",
    "    cv_word.fit(df['question1'].tolist() + df['question2'].tolist())\n",
    "    \n",
    "    m_q1 = cv_word.transform(df['question1'].values)\n",
    "    m_q2 = cv_word.transform(df['question2'].values)\n",
    "    \n",
    "    unigrams = dict([(k, v) for (k, v) in cv_word.vocabulary_.items() if len(k) == 1])\n",
    "    ix_unigrams = np.sort(list(unigrams.values()))\n",
    "    bigrams = dict([(k, v) for (k, v) in cv_word.vocabulary_.items() if len(k) == 2])\n",
    "    ix_bigrams = np.sort(list(bigrams.values()))\n",
    "    trigrams = dict([(k, v) for (k, v) in cv_word.vocabulary_.items() if len(k) == 3])\n",
    "    ix_trigrams = np.sort(list(trigrams.values()))\n",
    "    \n",
    "    return {\n",
    "        'ix_unigrams': ix_unigrams,\n",
    "        'ix_bigrams': ix_bigrams,\n",
    "        'ix_trigrams': ix_trigrams,\n",
    "        'm_q1': m_q1,\n",
    "        'm_q2': m_q2,\n",
    "    }"
   ]
  },
  {
   "cell_type": "code",
   "execution_count": 43,
   "metadata": {
    "collapsed": false
   },
   "outputs": [],
   "source": [
    "train_word_n_gramms = get_word_n_gramms(df_train)"
   ]
  },
  {
   "cell_type": "code",
   "execution_count": 31,
   "metadata": {
    "collapsed": true
   },
   "outputs": [],
   "source": [
    "test_word_n_gramms = get_word_n_gramms(df_test)"
   ]
  },
  {
   "cell_type": "code",
   "execution_count": 57,
   "metadata": {
    "collapsed": false
   },
   "outputs": [],
   "source": [
    "uni_word_metrics_train = binary_metrics(train_word_n_gramms['m_q1'], train_word_n_gramms['m_q2'], train_word_n_gramms['ix_unigrams'])\n",
    "bi_word_metrics_train = binary_metrics(train_word_n_gramms['m_q1'], train_word_n_gramms['m_q2'], train_word_n_gramms['ix_bigrams'])\n",
    "tri_word_metrics_train = binary_metrics(train_word_n_gramms['m_q1'], train_word_n_gramms['m_q2'], train_word_n_gramms['ix_trigrams'])"
   ]
  },
  {
   "cell_type": "code",
   "execution_count": 58,
   "metadata": {
    "collapsed": false
   },
   "outputs": [],
   "source": [
    "X_train['w_uni_simpson_score'] = uni_word_metrics_train['simpson_score']\n",
    "X_train['w_uni_serensen_score'] = uni_word_metrics_train['serensen_score']\n",
    "X_train['w_uni_djaccar_score'] = uni_word_metrics_train['djaccar_score']\n",
    "X_train['w_bi_simpson_score'] = bi_word_metrics_train['simpson_score']\n",
    "X_train['w_bi_serensen_score'] = bi_word_metrics_train['serensen_score']\n",
    "X_train['w_bi_djaccar_score'] = bi_word_metrics_train['djaccar_score']\n",
    "X_train['w_tri_simpson_score'] = tri_word_metrics_train['simpson_score']\n",
    "X_train['w_tri_serensen_score'] = tri_word_metrics_train['serensen_score']\n",
    "X_train['w_tri_djaccar_score'] = tri_word_metrics_train['djaccar_score']"
   ]
  },
  {
   "cell_type": "code",
   "execution_count": 37,
   "metadata": {
    "collapsed": false
   },
   "outputs": [
    {
     "name": "stdout",
     "output_type": "stream",
     "text": [
      "[0]\ttrain-logloss:0.687616\tvalid-logloss:0.687616\n",
      "Multiple eval metrics have been passed: 'valid-logloss' will be used for early stopping.\n",
      "\n",
      "Will train until valid-logloss hasn't improved in 50 rounds.\n",
      "[10]\ttrain-logloss:0.642582\tvalid-logloss:0.642582\n",
      "[20]\ttrain-logloss:0.610936\tvalid-logloss:0.610936\n",
      "[30]\ttrain-logloss:0.587988\tvalid-logloss:0.587988\n",
      "[40]\ttrain-logloss:0.570977\tvalid-logloss:0.570977\n",
      "[50]\ttrain-logloss:0.5581\tvalid-logloss:0.5581\n",
      "[60]\ttrain-logloss:0.548247\tvalid-logloss:0.548247\n",
      "[70]\ttrain-logloss:0.540667\tvalid-logloss:0.540667\n",
      "[80]\ttrain-logloss:0.534819\tvalid-logloss:0.534819\n",
      "[90]\ttrain-logloss:0.530281\tvalid-logloss:0.530281\n",
      "[100]\ttrain-logloss:0.526593\tvalid-logloss:0.526593\n",
      "[110]\ttrain-logloss:0.523662\tvalid-logloss:0.523662\n",
      "[120]\ttrain-logloss:0.521305\tvalid-logloss:0.521305\n",
      "[130]\ttrain-logloss:0.519364\tvalid-logloss:0.519364\n",
      "[140]\ttrain-logloss:0.517783\tvalid-logloss:0.517783\n",
      "[150]\ttrain-logloss:0.516407\tvalid-logloss:0.516407\n",
      "[160]\ttrain-logloss:0.515388\tvalid-logloss:0.515388\n",
      "[170]\ttrain-logloss:0.514511\tvalid-logloss:0.514511\n",
      "[180]\ttrain-logloss:0.513781\tvalid-logloss:0.513781\n",
      "[190]\ttrain-logloss:0.5131\tvalid-logloss:0.5131\n",
      "[200]\ttrain-logloss:0.512484\tvalid-logloss:0.512484\n",
      "[210]\ttrain-logloss:0.511949\tvalid-logloss:0.511949\n",
      "[220]\ttrain-logloss:0.511405\tvalid-logloss:0.511405\n",
      "[230]\ttrain-logloss:0.510999\tvalid-logloss:0.510999\n",
      "[240]\ttrain-logloss:0.510494\tvalid-logloss:0.510494\n",
      "[250]\ttrain-logloss:0.510057\tvalid-logloss:0.510057\n",
      "[260]\ttrain-logloss:0.509593\tvalid-logloss:0.509593\n",
      "[270]\ttrain-logloss:0.509083\tvalid-logloss:0.509083\n",
      "[280]\ttrain-logloss:0.508685\tvalid-logloss:0.508685\n",
      "[290]\ttrain-logloss:0.508312\tvalid-logloss:0.508312\n"
     ]
    }
   ],
   "source": [
    "model = get_xgboost(X_train, y_train)"
   ]
  },
  {
   "cell_type": "code",
   "execution_count": 178,
   "metadata": {
    "collapsed": false
   },
   "outputs": [
    {
     "data": {
      "text/plain": [
       "<matplotlib.axes._subplots.AxesSubplot at 0x12bb1fd30>"
      ]
     },
     "execution_count": 178,
     "metadata": {},
     "output_type": "execute_result"
    },
    {
     "data": {
      "image/png": "[encoded data removed]",
      "text/plain": [
       "<matplotlib.figure.Figure at 0x13667ad68>"
      ]
     },
     "metadata": {},
     "output_type": "display_data"
    }
   ],
   "source": [
    "plot_importance(model)"
   ]
  },
  {
   "cell_type": "code",
   "execution_count": 38,
   "metadata": {
    "collapsed": true
   },
   "outputs": [],
   "source": [
    "uni_word_metrics_test = binary_metrics(test_word_n_gramms['m_q1'], test_word_n_gramms['m_q2'], test_word_n_gramms['ix_unigrams'])\n",
    "bi_word_metrics_test = binary_metrics(test_word_n_gramms['m_q1'], test_word_n_gramms['m_q2'], test_word_n_gramms['ix_bigrams'])\n",
    "tri_word_metrics_test = binary_metrics(test_word_n_gramms['m_q1'], test_word_n_gramms['m_q2'], test_word_n_gramms['ix_trigrams'])"
   ]
  },
  {
   "cell_type": "code",
   "execution_count": 39,
   "metadata": {
    "collapsed": false
   },
   "outputs": [],
   "source": [
    "X_test['w_uni_simpson_score'] = uni_word_metrics_test['simpson_score']\n",
    "X_test['w_uni_serensen_score'] = uni_word_metrics_test['serensen_score']\n",
    "X_test['w_uni_djaccar_score'] = uni_word_metrics_test['djaccar_score']\n",
    "X_test['w_bi_simpson_score'] = bi_word_metrics_test['simpson_score']\n",
    "X_test['w_bi_serensen_score'] = bi_word_metrics_test['serensen_score']\n",
    "X_test['w_bi_djaccar_score'] = bi_word_metrics_test['djaccar_score']\n",
    "X_test['w_tri_simpson_score'] = tri_word_metrics_test['simpson_score']\n",
    "X_test['w_tri_serensen_score'] = tri_word_metrics_test['serensen_score']\n",
    "X_test['w_tri_djaccar_score'] = tri_word_metrics_test['djaccar_score']"
   ]
  },
  {
   "cell_type": "code",
   "execution_count": 111,
   "metadata": {
    "collapsed": true
   },
   "outputs": [],
   "source": [
    "y_test = model.predict(xgb.DMatrix(X_test))"
   ]
  },
  {
   "cell_type": "code",
   "execution_count": 112,
   "metadata": {
    "collapsed": true
   },
   "outputs": [],
   "source": [
    "output(y_test, 'fifth_xgb.csv')"
   ]
  },
  {
   "cell_type": "code",
   "execution_count": null,
   "metadata": {
    "collapsed": true
   },
   "outputs": [],
   "source": [
    "Скор на кэгле - 0.41"
   ]
  },
  {
   "cell_type": "code",
   "execution_count": 113,
   "metadata": {
    "collapsed": true
   },
   "outputs": [],
   "source": [
    "X_test.to_csv('features_test2.csv', index=False)\n",
    "X_train.to_csv('features_train2.csv', index=False)"
   ]
  },
  {
   "cell_type": "code",
   "execution_count": 71,
   "metadata": {
    "collapsed": false
   },
   "outputs": [],
   "source": [
    "X_test = pd.read_csv('features_test2.csv')\n",
    "X_train = pd.read_csv('features_train2.csv')"
   ]
  },
  {
   "cell_type": "markdown",
   "metadata": {},
   "source": [
    "# TF-IDF"
   ]
  },
  {
   "cell_type": "code",
   "execution_count": 7,
   "metadata": {
    "collapsed": false
   },
   "outputs": [],
   "source": [
    "def get_tfidf_n_gramms(m_q1, m_q2):\n",
    "    tft = TfidfTransformer()\n",
    "\n",
    "    tft = tft.fit(sparse.vstack((m_q1, m_q2)))\n",
    "    tf_q1 = tft.transform(m_q1)\n",
    "    tf_q2 = tft.transform(m_q2)\n",
    "    \n",
    "    return tf_q1, tf_q2"
   ]
  },
  {
   "cell_type": "code",
   "execution_count": 73,
   "metadata": {
    "collapsed": true
   },
   "outputs": [],
   "source": [
    "ix_bigrams = train_word_n_gramms['ix_bigrams']\n",
    "ix_trigrams = train_word_n_gramms['ix_trigrams']\n",
    "train_bi_q1 = train_word_n_gramms['m_q1'][:, ix_bigrams]\n",
    "train_bi_q2 = train_word_n_gramms['m_q2'][:, ix_bigrams]\n",
    "train_tri_q1 = train_word_n_gramms['m_q1'][:, ix_trigrams]\n",
    "train_tri_q2 = train_word_n_gramms['m_q2'][:, ix_trigrams]"
   ]
  },
  {
   "cell_type": "code",
   "execution_count": 74,
   "metadata": {
    "collapsed": false
   },
   "outputs": [],
   "source": [
    "tf_bi_q1, tf_bi_q2 = get_tfidf_n_gramms(train_bi_q1, train_bi_q2)\n",
    "tf_tri_q1, tf_tri_q2 = get_tfidf_n_gramms(train_tri_q1, train_tri_q2)"
   ]
  },
  {
   "cell_type": "code",
   "execution_count": 75,
   "metadata": {
    "collapsed": false
   },
   "outputs": [],
   "source": [
    "# Посчитаем эвклидово расстояние на триграммах и биграммах\n",
    "eucl_bi = (tf_bi_q1 - tf_bi_q2)\n",
    "eucl_bi = np.sqrt(np.array(eucl_bi.multiply(eucl_bi).sum(axis=1))[:, 0])\n",
    "eucl_tri = (tf_tri_q1 - tf_tri_q2)\n",
    "eucl_tri = np.sqrt(np.array(eucl_tri.multiply(eucl_tri).sum(axis=1))[:, 0])"
   ]
  },
  {
   "cell_type": "code",
   "execution_count": 76,
   "metadata": {
    "collapsed": true
   },
   "outputs": [],
   "source": [
    "X_train['eucl_bi'] = eucl_bi\n",
    "X_train['eucl_tri'] = eucl_tri"
   ]
  },
  {
   "cell_type": "code",
   "execution_count": 77,
   "metadata": {
    "collapsed": false
   },
   "outputs": [
    {
     "name": "stdout",
     "output_type": "stream",
     "text": [
      "[0]\ttrain-logloss:0.687588\tvalid-logloss:0.687588\n",
      "Multiple eval metrics have been passed: 'valid-logloss' will be used for early stopping.\n",
      "\n",
      "Will train until valid-logloss hasn't improved in 50 rounds.\n",
      "[10]\ttrain-logloss:0.642159\tvalid-logloss:0.642159\n",
      "[20]\ttrain-logloss:0.610235\tvalid-logloss:0.610235\n",
      "[30]\ttrain-logloss:0.587112\tvalid-logloss:0.587112\n",
      "[40]\ttrain-logloss:0.569963\tvalid-logloss:0.569963\n",
      "[50]\ttrain-logloss:0.556489\tvalid-logloss:0.556489\n",
      "[60]\ttrain-logloss:0.54614\tvalid-logloss:0.54614\n",
      "[70]\ttrain-logloss:0.538253\tvalid-logloss:0.538253\n",
      "[80]\ttrain-logloss:0.532345\tvalid-logloss:0.532345\n",
      "[90]\ttrain-logloss:0.527717\tvalid-logloss:0.527717\n",
      "[100]\ttrain-logloss:0.524045\tvalid-logloss:0.524045\n",
      "[110]\ttrain-logloss:0.521105\tvalid-logloss:0.521105\n",
      "[120]\ttrain-logloss:0.518737\tvalid-logloss:0.518737\n",
      "[130]\ttrain-logloss:0.516794\tvalid-logloss:0.516794\n",
      "[140]\ttrain-logloss:0.51525\tvalid-logloss:0.51525\n",
      "[150]\ttrain-logloss:0.513952\tvalid-logloss:0.513952\n",
      "[160]\ttrain-logloss:0.512924\tvalid-logloss:0.512924\n",
      "[170]\ttrain-logloss:0.512021\tvalid-logloss:0.512021\n",
      "[180]\ttrain-logloss:0.511264\tvalid-logloss:0.511264\n",
      "[190]\ttrain-logloss:0.510613\tvalid-logloss:0.510613\n",
      "[200]\ttrain-logloss:0.510083\tvalid-logloss:0.510083\n",
      "[210]\ttrain-logloss:0.509579\tvalid-logloss:0.509579\n",
      "[220]\ttrain-logloss:0.509068\tvalid-logloss:0.509068\n",
      "[230]\ttrain-logloss:0.508576\tvalid-logloss:0.508576\n",
      "[240]\ttrain-logloss:0.508128\tvalid-logloss:0.508128\n",
      "[250]\ttrain-logloss:0.507607\tvalid-logloss:0.507607\n",
      "[260]\ttrain-logloss:0.507161\tvalid-logloss:0.507161\n",
      "[270]\ttrain-logloss:0.506726\tvalid-logloss:0.506726\n",
      "[280]\ttrain-logloss:0.50636\tvalid-logloss:0.50636\n",
      "[290]\ttrain-logloss:0.50598\tvalid-logloss:0.50598\n"
     ]
    }
   ],
   "source": [
    "model = get_xgboost(X_train, y_train)"
   ]
  },
  {
   "cell_type": "code",
   "execution_count": 78,
   "metadata": {
    "collapsed": false
   },
   "outputs": [
    {
     "data": {
      "text/plain": [
       "<matplotlib.axes._subplots.AxesSubplot at 0x19f02ee10>"
      ]
     },
     "execution_count": 78,
     "metadata": {},
     "output_type": "execute_result"
    },
    {
     "data": {
      "image/png": "[encoded data removed]",
      "text/plain": [
       "<matplotlib.figure.Figure at 0x19f01c9b0>"
      ]
     },
     "metadata": {},
     "output_type": "display_data"
    }
   ],
   "source": [
    "plot_importance(model)"
   ]
  },
  {
   "cell_type": "code",
   "execution_count": 79,
   "metadata": {
    "collapsed": false
   },
   "outputs": [],
   "source": [
    "ix_bigrams = test_word_n_gramms['ix_bigrams']\n",
    "ix_trigrams = test_word_n_gramms['ix_trigrams']\n",
    "test_bi_q1 = test_word_n_gramms['m_q1'][:, ix_bigrams]\n",
    "test_bi_q2 = test_word_n_gramms['m_q2'][:, ix_bigrams]\n",
    "test_tri_q1 = test_word_n_gramms['m_q1'][:, ix_trigrams]\n",
    "test_tri_q2 = test_word_n_gramms['m_q2'][:, ix_trigrams]\n",
    "tf_bi_q1, tf_bi_q2 = get_tfidf_n_gramms(test_bi_q1, test_bi_q2)\n",
    "tf_tri_q1, tf_tri_q2 = get_tfidf_n_gramms(test_tri_q1, test_tri_q2)\n",
    "eucl_bi = (tf_bi_q1 - tf_bi_q2)\n",
    "eucl_bi = np.sqrt(np.array(eucl_bi.multiply(eucl_bi).sum(axis=1))[:, 0])\n",
    "eucl_tri = (tf_tri_q1 - tf_tri_q2)\n",
    "eucl_tri = np.sqrt(np.array(eucl_tri.multiply(eucl_tri).sum(axis=1))[:, 0])\n",
    "X_test['eucl_bi'] = eucl_bi\n",
    "X_test['eucl_tri'] = eucl_tri"
   ]
  },
  {
   "cell_type": "code",
   "execution_count": 80,
   "metadata": {
    "collapsed": false
   },
   "outputs": [],
   "source": [
    "y = model.predict(xgb.DMatrix(X_test))"
   ]
  },
  {
   "cell_type": "code",
   "execution_count": 81,
   "metadata": {
    "collapsed": true
   },
   "outputs": [],
   "source": [
    "output(y, 'sixth_xgb.csv')"
   ]
  },
  {
   "cell_type": "markdown",
   "metadata": {},
   "source": [
    "Скор - 0.39"
   ]
  },
  {
   "cell_type": "code",
   "execution_count": 96,
   "metadata": {
    "collapsed": true
   },
   "outputs": [],
   "source": [
    "# Попробуем теперь другие модели"
   ]
  },
  {
   "cell_type": "code",
   "execution_count": 100,
   "metadata": {
    "collapsed": false
   },
   "outputs": [],
   "source": [
    "from sklearn.linear_model import LogisticRegression \n",
    "\n",
    "lr_model = LogisticRegression(penalty='l2',\n",
    "                               tol=0.0001,\n",
    "                               C=1.0,\n",
    "                               fit_intercept=True,).fit(X_train, y_train)\n",
    "y = lr_model.predict_proba(X_test)\n",
    "output(y[:, 0], 'out.csv')"
   ]
  },
  {
   "cell_type": "markdown",
   "metadata": {},
   "source": [
    "Скор - 0.65"
   ]
  },
  {
   "cell_type": "code",
   "execution_count": 102,
   "metadata": {
    "collapsed": true
   },
   "outputs": [],
   "source": [
    "from sklearn.ensemble import BaggingClassifier\n",
    "\n",
    "bg_model = BaggingClassifier().fit(X_train, y_train)\n",
    "y = bg_model.predict_proba(X_test)\n",
    "output(y[:, 0], 'out.csv')"
   ]
  },
  {
   "cell_type": "code",
   "execution_count": null,
   "metadata": {
    "collapsed": true
   },
   "outputs": [],
   "source": [
    "Скор - 0.87"
   ]
  },
  {
   "cell_type": "code",
   "execution_count": 115,
   "metadata": {
    "collapsed": false
   },
   "outputs": [],
   "source": [
    "from sklearn.ensemble import AdaBoostClassifier\n",
    "\n",
    "ada = AdaBoostClassifier().fit(X_train, y_train)\n",
    "y = ada.predict_proba(X_test)\n",
    "output(y[:, 0], 'out.csv')"
   ]
  },
  {
   "cell_type": "code",
   "execution_count": 114,
   "metadata": {
    "collapsed": false
   },
   "outputs": [],
   "source": [
    "Скор - 0.71"
   ]
  },
  {
   "cell_type": "code",
   "execution_count": 116,
   "metadata": {
    "collapsed": true
   },
   "outputs": [],
   "source": [
    "from sklearn.ensemble import GradientBoostingClassifier\n",
    "\n",
    "gbc = GradientBoostingClassifier(loss='deviance',\n",
    "                                        subsample=1.0,\n",
    "                                        min_samples_split=2,\n",
    "                                        min_samples_leaf=1,\n",
    "                                        min_weight_fraction_leaf=0.0,\n",
    "                                        max_depth=3,\n",
    "                                       ).fit(X_train, y_train)\n",
    "y = gbc.predict_proba(X_test)\n",
    "output(y[:, 0], 'out.csv')"
   ]
  },
  {
   "cell_type": "code",
   "execution_count": null,
   "metadata": {
    "collapsed": true
   },
   "outputs": [],
   "source": [
    "Скор - 0.69"
   ]
  },
  {
   "cell_type": "code",
   "execution_count": 122,
   "metadata": {
    "collapsed": false
   },
   "outputs": [],
   "source": [
    "from sklearn.linear_model import Ridge\n",
    "rg = Ridge(alpha=1.0, copy_X=True, fit_intercept=True, max_iter=None,\n",
    "      normalize=False, random_state=None, solver='auto', tol=0.001).fit(X_train, y_train)\n",
    "y = rg.predict(X_test)\n",
    "output(y, 'out.csv')"
   ]
  },
  {
   "cell_type": "markdown",
   "metadata": {},
   "source": [
    "Скор - 0.48"
   ]
  },
  {
   "cell_type": "code",
   "execution_count": 124,
   "metadata": {
    "collapsed": true
   },
   "outputs": [],
   "source": [
    "# Похоже, что xgboost - наилучший выбор. Попробуем подгнать для него параметры и произведем кросс-валидацию"
   ]
  },
  {
   "cell_type": "code",
   "execution_count": 127,
   "metadata": {
    "collapsed": true
   },
   "outputs": [],
   "source": [
    "from xgboost import XGBClassifier\n"
   ]
  },
  {
   "cell_type": "code",
   "execution_count": 140,
   "metadata": {
    "collapsed": false
   },
   "outputs": [
    {
     "data": {
      "text/plain": [
       "XGBClassifier(base_score=0.5, colsample_bylevel=1, colsample_bytree=1,\n",
       "       gamma=0, learning_rate=0.1, max_delta_step=0, max_depth=3,\n",
       "       min_child_weight=1, missing=None, n_estimators=100, nthread=-1,\n",
       "       objective='binary:logistic', reg_alpha=0, reg_lambda=1,\n",
       "       scale_pos_weight=1, seed=0, silent=True, subsample=1)"
      ]
     },
     "execution_count": 140,
     "metadata": {},
     "output_type": "execute_result"
    }
   ],
   "source": [
    "XGBClassifier()"
   ]
  },
  {
   "cell_type": "code",
   "execution_count": 141,
   "metadata": {
    "collapsed": false
   },
   "outputs": [
    {
     "data": {
      "text/plain": [
       "GridSearchCV(cv=2, error_score='raise',\n",
       "       estimator=XGBClassifier(base_score=0.5, colsample_bylevel=1, colsample_bytree=1.0,\n",
       "       gamma=0, learning_rate=0.1, max_delta_step=0, max_depth=12,\n",
       "       min_child_weight=1, missing=None, n_estimators=100, nthread=4,\n",
       "       objective='binary:logistic', reg_alpha=0, reg_lambda=1,\n",
       "       scale_pos_weight=1, seed=0, silent=1, subsample=0.5),\n",
       "       fit_params={}, iid=True, n_jobs=1,\n",
       "       param_grid={'colsample_bytree': [0.9, 1.0], 'max_depth': [4, 6, 9], 'subsample': [0.9, 1.0], 'gamma': [0.05, 0.1, 0.3]},\n",
       "       pre_dispatch='2*n_jobs', refit=True, return_train_score=True,\n",
       "       scoring=None, verbose=0)"
      ]
     },
     "execution_count": 141,
     "metadata": {},
     "output_type": "execute_result"
    }
   ],
   "source": [
    "clf = XGBClassifier(\n",
    "        nthread = 4,\n",
    "        max_depth = 12,\n",
    "        subsample = 0.5,\n",
    "        colsample_bytree = 1.0,\n",
    "        silent = 1,\n",
    "        )\n",
    "parameters = {\n",
    "        'gamma': [0.05, 0.1, 0.3],\n",
    "        'max_depth': [4, 6, 9],\n",
    "        'subsample': [0.9, 1.0],\n",
    "        'colsample_bytree': [0.9, 1.0],\n",
    "    }\n",
    "clf = GridSearchCV(clf, parameters, n_jobs=1, cv=2)\n",
    "clf.fit(X_train, y_train)"
   ]
  },
  {
   "cell_type": "code",
   "execution_count": 153,
   "metadata": {
    "collapsed": false
   },
   "outputs": [],
   "source": [
    "params = {}\n",
    "params['objective'] = 'binary:logistic'\n",
    "params['eval_metric'] = 'logloss'\n",
    "params['eta'] = 0.02\n",
    "params['max_depth'] = 4\n",
    "params['n_estimators'] = 100\n",
    "params['max_depth'] = 12\n",
    "params['collsample_bytree'] = 1.0\n",
    "params['colsample_bytree'] = 1.0\n",
    "d_train = xgb.DMatrix(X_train, label=y_train)\n",
    "model = xgb.train(params, d_train)"
   ]
  },
  {
   "cell_type": "code",
   "execution_count": 154,
   "metadata": {
    "collapsed": true
   },
   "outputs": [],
   "source": [
    "y_test = model.predict(xgb.DMatrix(X_test))"
   ]
  },
  {
   "cell_type": "code",
   "execution_count": 155,
   "metadata": {
    "collapsed": true
   },
   "outputs": [],
   "source": [
    "output(y_test, 'out.csv')"
   ]
  },
  {
   "cell_type": "code",
   "execution_count": null,
   "metadata": {
    "collapsed": true
   },
   "outputs": [],
   "source": []
  }
 ],
 "metadata": {
  "kernelspec": {
   "display_name": "Python 3",
   "language": "python",
   "name": "python3"
  },
  "language_info": {
   "codemirror_mode": {
    "name": "ipython",
    "version": 3
   },
   "file_extension": ".py",
   "mimetype": "text/x-python",
   "name": "python",
   "nbconvert_exporter": "python",
   "pygments_lexer": "ipython3",
   "version": "3.5.1"
  }
 },
 "nbformat": 4,
 "nbformat_minor": 0
}
